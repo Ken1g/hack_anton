{
 "cells": [
  {
   "cell_type": "code",
   "execution_count": 6264,
   "metadata": {
    "collapsed": true
   },
   "outputs": [],
   "source": [
    "from __future__ import print_function\n",
    "\n",
    "import collections\n",
    "\n",
    "# Import Python wrapper for or-tools CP-SAT solver.\n",
    "from ortools.sat.python import cp_model"
   ]
  },
  {
   "cell_type": "code",
   "execution_count": 6265,
   "metadata": {
    "collapsed": true
   },
   "outputs": [],
   "source": [
    "clever = True\n",
    "start_test = 0\n",
    "end_test = 10"
   ]
  },
  {
   "cell_type": "code",
   "execution_count": 6266,
   "metadata": {
    "collapsed": true
   },
   "outputs": [],
   "source": [
    "class Solution():\n",
    "    def __init__(self):\n",
    "        self.time = []"
   ]
  },
  {
   "cell_type": "code",
   "execution_count": 6267,
   "metadata": {
    "collapsed": true
   },
   "outputs": [],
   "source": [
    "class Task():\n",
    "    def __init__(self):\n",
    "        self.machine_num = None\n",
    "        self.job_num = None\n",
    "        self.task_num  = None\n",
    "        self.start = None\n",
    "        self.end = None"
   ]
  },
  {
   "cell_type": "code",
   "execution_count": null,
   "metadata": {
    "collapsed": true
   },
   "outputs": [],
   "source": []
  },
  {
   "cell_type": "code",
   "execution_count": 6268,
   "metadata": {},
   "outputs": [],
   "source": [
    "global_sol = Solution()"
   ]
  },
  {
   "cell_type": "code",
   "execution_count": 6269,
   "metadata": {
    "collapsed": true
   },
   "outputs": [],
   "source": [
    "def MinimalJobshopSat(jobs_data):\n",
    "    \"\"\"Minimal jobshop problem.\"\"\"\n",
    "    # Create the model.\n",
    "    model = cp_model.CpModel()\n",
    "\n",
    "    machines_count = 1 + max(task[0] for job in jobs_data for task in job)\n",
    "    all_machines = range(machines_count)\n",
    "    jobs_count = len(jobs_data)\n",
    "    all_jobs = range(jobs_count)\n",
    "\n",
    "    # Compute horizon.\n",
    "    horizon = sum(task[1] for job in jobs_data for task in job)\n",
    "\n",
    "    task_type = collections.namedtuple('task_type', 'start end interval')\n",
    "    assigned_task_type = collections.namedtuple('assigned_task_type',\n",
    "                                                'start job index')\n",
    "\n",
    "    # Create jobs.\n",
    "    all_tasks = {}\n",
    "    for job in all_jobs:\n",
    "        for task_id, task in enumerate(jobs_data[job]):\n",
    "            start_var = model.NewIntVar(0, horizon,\n",
    "                                        'start_%i_%i' % (job, task_id))\n",
    "            duration = task[1]\n",
    "            end_var = model.NewIntVar(0, horizon, 'end_%i_%i' % (job, task_id))\n",
    "            interval_var = model.NewIntervalVar(\n",
    "                start_var, duration, end_var, 'interval_%i_%i' % (job, task_id))\n",
    "            all_tasks[job, task_id] = task_type(\n",
    "                start=start_var, end=end_var, interval=interval_var)\n",
    "\n",
    "    # Create and add disjunctive constraints.\n",
    "    for machine in all_machines:\n",
    "        intervals = []\n",
    "        for job in all_jobs:\n",
    "            for task_id, task in enumerate(jobs_data[job]):\n",
    "                if task[0] == machine:\n",
    "                    intervals.append(all_tasks[job, task_id].interval)\n",
    "        model.AddNoOverlap(intervals)\n",
    "\n",
    "    # Add precedence contraints.\n",
    "    for job in all_jobs:\n",
    "        for task_id in range(0, len(jobs_data[job]) - 1):\n",
    "            model.Add(all_tasks[job, task_id +\n",
    "                                1].start >= all_tasks[job, task_id].end)\n",
    "\n",
    "    # Makespan objective.\n",
    "    obj_var = model.NewIntVar(0, horizon, 'makespan')\n",
    "    model.AddMaxEquality(\n",
    "        obj_var,\n",
    "        [all_tasks[(job, len(jobs_data[job]) - 1)].end for job in all_jobs])\n",
    "    model.Minimize(obj_var)\n",
    "\n",
    "    # Solve model.\n",
    "    solver = cp_model.CpSolver()\n",
    "    status = solver.Solve(model)\n",
    "\n",
    "    if status == cp_model.OPTIMAL:\n",
    "        # Print out makespan.\n",
    "        print('Optimal Schedule Length: %i' % solver.ObjectiveValue())\n",
    "        print()\n",
    "\n",
    "        # Create one list of assigned tasks per machine.\n",
    "        assigned_jobs = [[] for _ in all_machines]\n",
    "        for job in all_jobs:\n",
    "            for task_id, task in enumerate(jobs_data[job]):\n",
    "                machine = task[0]\n",
    "                assigned_jobs[machine].append(\n",
    "                    assigned_task_type(\n",
    "                        start=solver.Value(all_tasks[job, task_id].start),\n",
    "                        job=job,\n",
    "                        index=task_id))\n",
    "\n",
    "        disp_col_width = 10\n",
    "        sol_line = ''\n",
    "        sol_line_tasks = ''\n",
    "\n",
    "        print('Optimal Schedule', '\\n')\n",
    "\n",
    "        for machine in all_machines:\n",
    "            # Sort by starting time.\n",
    "            assigned_jobs[machine].sort()\n",
    "            sol_line += 'Machine ' + str(machine) + ': '\n",
    "            sol_line_tasks += 'Machine ' + str(machine) + ': '\n",
    "\n",
    "            for assigned_task in assigned_jobs[machine]:\n",
    "                name = 'job_%i_%i' % (assigned_task.job, assigned_task.index)\n",
    "                # Add spaces to output to align columns.\n",
    "                sol_line_tasks += name + ' ' * (disp_col_width - len(name))\n",
    "                start = assigned_task.start\n",
    "                duration = jobs_data[assigned_task.job][assigned_task.index][1]\n",
    "\n",
    "                sol_tmp = '[%i,%i]' % (start, start + duration)\n",
    "                # Add spaces to output to align columns.\n",
    "                #sol_line += sol_tmp + ' ' * (disp_col_width - len(sol_tmp))\n",
    "                sol_line += sol_tmp + ' '\n",
    "\n",
    "                \n",
    "            sol_line += '\\n'\n",
    "            sol_line_tasks += '\\n'\n",
    "\n",
    "        print(sol_line_tasks)\n",
    "        print('Task Time Intervals\\n')\n",
    "        print(sol_line)\n",
    "        global_sol.sol_line_tasks = sol_line_tasks.split()\n",
    "        global_sol.sol_line = sol_line.split()\n",
    "        global_sol.time.append(solver.ObjectiveValue())\n",
    "\n"
   ]
  },
  {
   "cell_type": "code",
   "execution_count": 6270,
   "metadata": {},
   "outputs": [],
   "source": [
    "jobs_data = [  # task = (machine_id, processing_time).\n",
    "    [(0, 3), (1, 2), (2, 2)],  # Job0\n",
    "    [(0, 2), (2, 1), (1, 4)],  # Job1\n",
    "    [(1, 4)]  # Job2\n",
    "]\n",
    "#MinimalJobshopSat(jobs_data)"
   ]
  },
  {
   "cell_type": "code",
   "execution_count": 6271,
   "metadata": {
    "collapsed": true
   },
   "outputs": [],
   "source": [
    "global_obtained_sol = []"
   ]
  },
  {
   "cell_type": "code",
   "execution_count": 6272,
   "metadata": {},
   "outputs": [],
   "source": [
    "def obtain_sol_line_tasks():\n",
    "    cur_machine_num = None\n",
    "    cur_task = None\n",
    "    for k in range(len(global_sol.sol_line_tasks)):\n",
    "        i = global_sol.sol_line_tasks[k]\n",
    "        j = global_sol.sol_line[k]\n",
    "        if ':' in i:\n",
    "            cur_machine_num = i[:-1]\n",
    "        elif 'job' in i:\n",
    "            cur_task = Task()\n",
    "            job_info = i.split('_')\n",
    "            cur_task.task_num = int(job_info[2])\n",
    "            cur_task.job_num = int(job_info[1])\n",
    "            cur_task.machine_num = int(cur_machine_num)\n",
    "            \n",
    "            time_info = global_sol.sol_line[k][1:-1].split(',')\n",
    "            start, end = int(time_info[0]), int(time_info[1])\n",
    "            cur_task.start = start\n",
    "            cur_task.end = end\n",
    "            global_obtained_sol.append(cur_task)\n"
   ]
  },
  {
   "cell_type": "code",
   "execution_count": 6273,
   "metadata": {},
   "outputs": [],
   "source": [
    "#obtain_sol_line_tasks()"
   ]
  },
  {
   "cell_type": "code",
   "execution_count": 6274,
   "metadata": {},
   "outputs": [],
   "source": [
    "def check(sol):\n",
    "    for task in sol:\n",
    "        print('job {j}, task {t}, machine {m}, start {s}, end {e}'.format(\n",
    "                    t=str(task.task_num),\n",
    "                    m=str(task.machine_num),\n",
    "                    j=str(task.job_num),\n",
    "                    s=str(task.start),\n",
    "                    e=str(task.end)\n",
    "        ))\n",
    "    "
   ]
  },
  {
   "cell_type": "code",
   "execution_count": 6275,
   "metadata": {},
   "outputs": [],
   "source": [
    "#check(global_obtained_sol)"
   ]
  },
  {
   "cell_type": "code",
   "execution_count": null,
   "metadata": {
    "collapsed": true
   },
   "outputs": [],
   "source": []
  },
  {
   "cell_type": "code",
   "execution_count": null,
   "metadata": {
    "collapsed": true
   },
   "outputs": [],
   "source": []
  },
  {
   "cell_type": "code",
   "execution_count": 6276,
   "metadata": {},
   "outputs": [],
   "source": [
    "import plotly\n",
    "import plotly.plotly as py\n",
    "import plotly.figure_factory as ff\n",
    "plotly.tools.set_credentials_file(username='PashaFedosov', api_key='q65kw4sKFKSqdKVvVRO2')"
   ]
  },
  {
   "cell_type": "code",
   "execution_count": null,
   "metadata": {
    "collapsed": true
   },
   "outputs": [],
   "source": []
  },
  {
   "cell_type": "code",
   "execution_count": 6277,
   "metadata": {
    "collapsed": true
   },
   "outputs": [],
   "source": [
    "def create_data_frame(start, end):\n",
    "    import datetime\n",
    "    the_start = datetime.datetime(2019, 2, 24)\n",
    "    s = the_start + datetime.timedelta(seconds=start*60)\n",
    "    e = the_start + datetime.timedelta(seconds=end*60)\n",
    "    \n",
    "    start = str(s)\n",
    "    end = str(e)\n",
    "    \n",
    "    return (start, end)\n",
    "    \n",
    "    \n",
    "    "
   ]
  },
  {
   "cell_type": "code",
   "execution_count": null,
   "metadata": {
    "collapsed": true
   },
   "outputs": [],
   "source": []
  },
  {
   "cell_type": "code",
   "execution_count": 6278,
   "metadata": {},
   "outputs": [
    {
     "data": {
      "text/plain": [
       "\"\\ndf = []\\nfor task in global_obtained_sol:\\n    data = create_data_frame(task.start, task.end)\\n    df.append(dict(\\n        Task=str(task.machine_num),\\n        Start=data[0],\\n        Finish=data[1],\\n        Resource=task.job_num\\n    ))\\n\\ncolors = {\\n    0: 'rgb(0, 0, 0)',\\n    1: 'rgb(128, 0, 128)',\\n    2: 'rgb(255, 0, 0)',\\n    3: 'rgb(0, 255, 0)',\\n    4: 'rgb(0, 0, 255)',\\n    5: 'rgb(255, 255, 0)',\\n    6: 'rgb(0, 255, 255)',\\n    7: 'rgb(255, 0, 255)',\\n    8: 'rgb(192, 192, 192)',\\n    9: 'rgb(128, 128, 128)',\\n    10: 'rgb(128, 0, 0)'\\n}\\n\\n\\nfig = ff.create_gantt(df, colors=colors, index_col='Resource', show_colorbar=True, group_tasks=True)\\npy.iplot(fig, filename='gantt-group-tasks-together', world_readable=True)\\n\""
      ]
     },
     "execution_count": 6278,
     "metadata": {},
     "output_type": "execute_result"
    }
   ],
   "source": [
    "'''\n",
    "df = []\n",
    "for task in global_obtained_sol:\n",
    "    data = create_data_frame(task.start, task.end)\n",
    "    df.append(dict(\n",
    "        Task=str(task.machine_num),\n",
    "        Start=data[0],\n",
    "        Finish=data[1],\n",
    "        Resource=task.job_num\n",
    "    ))\n",
    "\n",
    "colors = {\n",
    "    0: 'rgb(0, 0, 0)',\n",
    "    1: 'rgb(128, 0, 128)',\n",
    "    2: 'rgb(255, 0, 0)',\n",
    "    3: 'rgb(0, 255, 0)',\n",
    "    4: 'rgb(0, 0, 255)',\n",
    "    5: 'rgb(255, 255, 0)',\n",
    "    6: 'rgb(0, 255, 255)',\n",
    "    7: 'rgb(255, 0, 255)',\n",
    "    8: 'rgb(192, 192, 192)',\n",
    "    9: 'rgb(128, 128, 128)',\n",
    "    10: 'rgb(128, 0, 0)'\n",
    "}\n",
    "\n",
    "\n",
    "fig = ff.create_gantt(df, colors=colors, index_col='Resource', show_colorbar=True, group_tasks=True)\n",
    "py.iplot(fig, filename='gantt-group-tasks-together', world_readable=True)\n",
    "'''\n"
   ]
  },
  {
   "cell_type": "code",
   "execution_count": 6279,
   "metadata": {},
   "outputs": [
    {
     "data": {
      "text/plain": [
       "\"\\ndf = []\\nfor task in global_obtained_sol:\\n    data = create_data_frame(task.start, task.end)\\n    df.append(dict(\\n        Task=str(task.job_num),\\n        Start=data[0],\\n        Finish=data[1],\\n        Resource=task.machine_num\\n    ))\\n\\ncolors = {\\n    0: 'rgb(0, 0, 0)',\\n    1: 'rgb(128, 0, 128)',\\n    2: 'rgb(255, 0, 0)',\\n    3: 'rgb(0, 255, 0)',\\n    4: 'rgb(0, 0, 255)',\\n    5: 'rgb(255, 255, 0)',\\n    6: 'rgb(0, 255, 255)',\\n    7: 'rgb(255, 0, 255)',\\n    8: 'rgb(192, 192, 192)',\\n    9: 'rgb(128, 128, 128)',\\n    10: 'rgb(128, 0, 0)'\\n}\\n\\n\\nfig = ff.create_gantt(df, colors=colors, index_col='Resource', show_colorbar=True, group_tasks=True)\\npy.iplot(fig, filename='gantt-group-tasks-together', world_readable=True)\\n\""
      ]
     },
     "execution_count": 6279,
     "metadata": {},
     "output_type": "execute_result"
    }
   ],
   "source": [
    "'''\n",
    "df = []\n",
    "for task in global_obtained_sol:\n",
    "    data = create_data_frame(task.start, task.end)\n",
    "    df.append(dict(\n",
    "        Task=str(task.job_num),\n",
    "        Start=data[0],\n",
    "        Finish=data[1],\n",
    "        Resource=task.machine_num\n",
    "    ))\n",
    "\n",
    "colors = {\n",
    "    0: 'rgb(0, 0, 0)',\n",
    "    1: 'rgb(128, 0, 128)',\n",
    "    2: 'rgb(255, 0, 0)',\n",
    "    3: 'rgb(0, 255, 0)',\n",
    "    4: 'rgb(0, 0, 255)',\n",
    "    5: 'rgb(255, 255, 0)',\n",
    "    6: 'rgb(0, 255, 255)',\n",
    "    7: 'rgb(255, 0, 255)',\n",
    "    8: 'rgb(192, 192, 192)',\n",
    "    9: 'rgb(128, 128, 128)',\n",
    "    10: 'rgb(128, 0, 0)'\n",
    "}\n",
    "\n",
    "\n",
    "fig = ff.create_gantt(df, colors=colors, index_col='Resource', show_colorbar=True, group_tasks=True)\n",
    "py.iplot(fig, filename='gantt-group-tasks-together', world_readable=True)\n",
    "'''"
   ]
  },
  {
   "cell_type": "code",
   "execution_count": null,
   "metadata": {
    "collapsed": true
   },
   "outputs": [],
   "source": []
  },
  {
   "cell_type": "code",
   "execution_count": null,
   "metadata": {
    "collapsed": true
   },
   "outputs": [],
   "source": []
  },
  {
   "cell_type": "code",
   "execution_count": null,
   "metadata": {
    "collapsed": true
   },
   "outputs": [],
   "source": []
  },
  {
   "cell_type": "code",
   "execution_count": null,
   "metadata": {
    "collapsed": true
   },
   "outputs": [],
   "source": []
  },
  {
   "cell_type": "code",
   "execution_count": 6280,
   "metadata": {
    "collapsed": true
   },
   "outputs": [],
   "source": [
    "machine_table = {}\n",
    "machine_table['Пила'] = [0]\n",
    "machine_table['Плазменная'] = [1]\n",
    "machine_table['Токарный'] = [2, 3]\n",
    "machine_table['Фрезерный'] = [4, 5]\n",
    "machine_table['Сверление'] = [6, 7]\n",
    "machine_table['Сварка'] = [8]\n",
    "machine_table['Окраска'] = [9]"
   ]
  },
  {
   "cell_type": "code",
   "execution_count": 6281,
   "metadata": {
    "collapsed": true
   },
   "outputs": [],
   "source": [
    "# making good legend\n",
    "machine_name = {}\n",
    "machine_name[0] = 'Пила'\n",
    "machine_name[1] = 'Плазменная'\n",
    "machine_name[2] = 'Токарный_0'\n",
    "machine_name[3] = 'Токарный_1'\n",
    "machine_name[4] = 'Фрезерный_0'\n",
    "machine_name[5] = 'Фрезерный_1'\n",
    "machine_name[6] = 'Сверление_0'\n",
    "machine_name[7] = 'Сверление_1'\n",
    "machine_name[8] = 'Сварка'\n",
    "machine_name[9] = 'Окраска'\n"
   ]
  },
  {
   "cell_type": "code",
   "execution_count": null,
   "metadata": {
    "collapsed": true
   },
   "outputs": [],
   "source": []
  },
  {
   "cell_type": "code",
   "execution_count": 6282,
   "metadata": {
    "collapsed": true
   },
   "outputs": [],
   "source": [
    "def obtain_path(path_name):\n",
    "    paths = []\n",
    "    for name in path_name:\n",
    "        new_paths = []\n",
    "        if len(paths) == 0:\n",
    "            for machine in machine_table[name]:\n",
    "                new_paths.append([machine])\n",
    "        else:\n",
    "            for p in paths:\n",
    "                for machine in machine_table[name]:\n",
    "                    new_paths.append(p + [machine])\n",
    "        paths = new_paths\n",
    "    return paths"
   ]
  },
  {
   "cell_type": "code",
   "execution_count": 6283,
   "metadata": {},
   "outputs": [
    {
     "data": {
      "text/plain": [
       "[[0, 1]]"
      ]
     },
     "execution_count": 6283,
     "metadata": {},
     "output_type": "execute_result"
    }
   ],
   "source": [
    "obtain_path(['Пила', 'Плазменная'])"
   ]
  },
  {
   "cell_type": "code",
   "execution_count": null,
   "metadata": {
    "collapsed": true
   },
   "outputs": [],
   "source": []
  },
  {
   "cell_type": "code",
   "execution_count": 6284,
   "metadata": {},
   "outputs": [],
   "source": [
    "import pandas as pd\n",
    "import numpy as np\n",
    "file_name = 'Khakaton.xlsx'\n",
    "products = pd.read_excel(open('Khakaton.xlsx', 'rb'), sheet_name=u'Перечень и состав изделий')\n",
    "prods_num = pd.read_excel(open('Khakaton.xlsx', 'rb'), sheet_name=u'Необходимое кол-во изделий')\n",
    "equipment = pd.read_excel(open('Khakaton.xlsx', 'rb'), sheet_name=u'Оборудование')\n",
    "lines = pd.read_excel(open('Khakaton.xlsx', 'rb'), sheet_name=u'маршрут изготовления', header=2)                  \n",
    "process_time = pd.read_excel(open('Khakaton.xlsx', 'rb'), sheet_name=u'нормы времени (мин.)')\n",
    "adjustment_time = pd.read_excel(open('Khakaton.xlsx', 'rb'), sheet_name=u'Время на наладку оборудования')\n",
    "submisson = pd.read_excel(open('Khakaton.xlsx', 'rb'), sheet_name=u'мой вспомогательный')"
   ]
  },
  {
   "cell_type": "code",
   "execution_count": 6285,
   "metadata": {
    "collapsed": true
   },
   "outputs": [],
   "source": [
    "all_the = [products, prods_num, equipment, lines, process_time, adjustment_time]"
   ]
  },
  {
   "cell_type": "code",
   "execution_count": 6286,
   "metadata": {},
   "outputs": [
    {
     "name": "stdout",
     "output_type": "stream",
     "text": [
      "(72, 2)\n",
      "(103, 3)\n",
      "(10, 3)\n",
      "(72, 7)\n",
      "(72, 9)\n",
      "(72, 9)\n"
     ]
    }
   ],
   "source": [
    "for i in all_the:\n",
    "    print(i.shape)"
   ]
  },
  {
   "cell_type": "code",
   "execution_count": 6287,
   "metadata": {},
   "outputs": [
    {
     "data": {
      "text/html": [
       "<div>\n",
       "<style scoped>\n",
       "    .dataframe tbody tr th:only-of-type {\n",
       "        vertical-align: middle;\n",
       "    }\n",
       "\n",
       "    .dataframe tbody tr th {\n",
       "        vertical-align: top;\n",
       "    }\n",
       "\n",
       "    .dataframe thead th {\n",
       "        text-align: right;\n",
       "    }\n",
       "</style>\n",
       "<table border=\"1\" class=\"dataframe\">\n",
       "  <thead>\n",
       "    <tr style=\"text-align: right;\">\n",
       "      <th></th>\n",
       "      <th>N</th>\n",
       "      <th>nomenclature</th>\n",
       "    </tr>\n",
       "  </thead>\n",
       "  <tbody>\n",
       "    <tr>\n",
       "      <th>0</th>\n",
       "      <td>1.0</td>\n",
       "      <td>Переходник 1</td>\n",
       "    </tr>\n",
       "    <tr>\n",
       "      <th>1</th>\n",
       "      <td>1.1</td>\n",
       "      <td>Муфта А1</td>\n",
       "    </tr>\n",
       "    <tr>\n",
       "      <th>2</th>\n",
       "      <td>1.2</td>\n",
       "      <td>Муфта А2</td>\n",
       "    </tr>\n",
       "    <tr>\n",
       "      <th>3</th>\n",
       "      <td>2.0</td>\n",
       "      <td>Переходник 2</td>\n",
       "    </tr>\n",
       "    <tr>\n",
       "      <th>4</th>\n",
       "      <td>2.1</td>\n",
       "      <td>Муфта Б1</td>\n",
       "    </tr>\n",
       "  </tbody>\n",
       "</table>\n",
       "</div>"
      ],
      "text/plain": [
       "     N  nomenclature\n",
       "0  1.0  Переходник 1\n",
       "1  1.1      Муфта А1\n",
       "2  1.2      Муфта А2\n",
       "3  2.0  Переходник 2\n",
       "4  2.1      Муфта Б1"
      ]
     },
     "execution_count": 6287,
     "metadata": {},
     "output_type": "execute_result"
    }
   ],
   "source": [
    "products.head()"
   ]
  },
  {
   "cell_type": "code",
   "execution_count": 6288,
   "metadata": {},
   "outputs": [
    {
     "data": {
      "text/html": [
       "<div>\n",
       "<style scoped>\n",
       "    .dataframe tbody tr th:only-of-type {\n",
       "        vertical-align: middle;\n",
       "    }\n",
       "\n",
       "    .dataframe tbody tr th {\n",
       "        vertical-align: top;\n",
       "    }\n",
       "\n",
       "    .dataframe thead th {\n",
       "        text-align: right;\n",
       "    }\n",
       "</style>\n",
       "<table border=\"1\" class=\"dataframe\">\n",
       "  <thead>\n",
       "    <tr style=\"text-align: right;\">\n",
       "      <th></th>\n",
       "      <th>N</th>\n",
       "      <th>nomenclature</th>\n",
       "      <th>number</th>\n",
       "    </tr>\n",
       "  </thead>\n",
       "  <tbody>\n",
       "    <tr>\n",
       "      <th>0</th>\n",
       "      <td>1.0</td>\n",
       "      <td>Переходник 1</td>\n",
       "      <td>10</td>\n",
       "    </tr>\n",
       "    <tr>\n",
       "      <th>1</th>\n",
       "      <td>1.1</td>\n",
       "      <td>Муфта А1</td>\n",
       "      <td>10</td>\n",
       "    </tr>\n",
       "    <tr>\n",
       "      <th>2</th>\n",
       "      <td>1.2</td>\n",
       "      <td>Муфта А2</td>\n",
       "      <td>10</td>\n",
       "    </tr>\n",
       "    <tr>\n",
       "      <th>3</th>\n",
       "      <td>2.0</td>\n",
       "      <td>Переходник 2</td>\n",
       "      <td>10</td>\n",
       "    </tr>\n",
       "    <tr>\n",
       "      <th>4</th>\n",
       "      <td>2.1</td>\n",
       "      <td>Муфта Б1</td>\n",
       "      <td>10</td>\n",
       "    </tr>\n",
       "  </tbody>\n",
       "</table>\n",
       "</div>"
      ],
      "text/plain": [
       "     N  nomenclature  number\n",
       "0  1.0  Переходник 1      10\n",
       "1  1.1      Муфта А1      10\n",
       "2  1.2      Муфта А2      10\n",
       "3  2.0  Переходник 2      10\n",
       "4  2.1      Муфта Б1      10"
      ]
     },
     "execution_count": 6288,
     "metadata": {},
     "output_type": "execute_result"
    }
   ],
   "source": [
    "prods_num.head()"
   ]
  },
  {
   "cell_type": "code",
   "execution_count": 6289,
   "metadata": {},
   "outputs": [
    {
     "data": {
      "text/html": [
       "<div>\n",
       "<style scoped>\n",
       "    .dataframe tbody tr th:only-of-type {\n",
       "        vertical-align: middle;\n",
       "    }\n",
       "\n",
       "    .dataframe tbody tr th {\n",
       "        vertical-align: top;\n",
       "    }\n",
       "\n",
       "    .dataframe thead th {\n",
       "        text-align: right;\n",
       "    }\n",
       "</style>\n",
       "<table border=\"1\" class=\"dataframe\">\n",
       "  <thead>\n",
       "    <tr style=\"text-align: right;\">\n",
       "      <th></th>\n",
       "      <th>N</th>\n",
       "      <th>machine</th>\n",
       "      <th>type</th>\n",
       "    </tr>\n",
       "  </thead>\n",
       "  <tbody>\n",
       "    <tr>\n",
       "      <th>0</th>\n",
       "      <td>1</td>\n",
       "      <td>Станок №1</td>\n",
       "      <td>Пила</td>\n",
       "    </tr>\n",
       "    <tr>\n",
       "      <th>1</th>\n",
       "      <td>2</td>\n",
       "      <td>Станок №2</td>\n",
       "      <td>Плазменная резка</td>\n",
       "    </tr>\n",
       "    <tr>\n",
       "      <th>2</th>\n",
       "      <td>3</td>\n",
       "      <td>Станок №3</td>\n",
       "      <td>Токарный 1</td>\n",
       "    </tr>\n",
       "    <tr>\n",
       "      <th>3</th>\n",
       "      <td>4</td>\n",
       "      <td>Станок №4</td>\n",
       "      <td>Токарный 2</td>\n",
       "    </tr>\n",
       "    <tr>\n",
       "      <th>4</th>\n",
       "      <td>5</td>\n",
       "      <td>Станок №5</td>\n",
       "      <td>Фрезерный 1</td>\n",
       "    </tr>\n",
       "  </tbody>\n",
       "</table>\n",
       "</div>"
      ],
      "text/plain": [
       "   N    machine              type\n",
       "0  1  Станок №1              Пила\n",
       "1  2  Станок №2  Плазменная резка\n",
       "2  3  Станок №3        Токарный 1\n",
       "3  4  Станок №4        Токарный 2\n",
       "4  5  Станок №5       Фрезерный 1"
      ]
     },
     "execution_count": 6289,
     "metadata": {},
     "output_type": "execute_result"
    }
   ],
   "source": [
    "equipment.head()"
   ]
  },
  {
   "cell_type": "code",
   "execution_count": 6290,
   "metadata": {},
   "outputs": [
    {
     "data": {
      "text/html": [
       "<div>\n",
       "<style scoped>\n",
       "    .dataframe tbody tr th:only-of-type {\n",
       "        vertical-align: middle;\n",
       "    }\n",
       "\n",
       "    .dataframe tbody tr th {\n",
       "        vertical-align: top;\n",
       "    }\n",
       "\n",
       "    .dataframe thead th {\n",
       "        text-align: right;\n",
       "    }\n",
       "</style>\n",
       "<table border=\"1\" class=\"dataframe\">\n",
       "  <thead>\n",
       "    <tr style=\"text-align: right;\">\n",
       "      <th></th>\n",
       "      <th>N</th>\n",
       "      <th>nomenclature</th>\n",
       "      <th>operation1</th>\n",
       "      <th>operation2</th>\n",
       "      <th>operation3</th>\n",
       "      <th>operation4</th>\n",
       "      <th>operation5</th>\n",
       "    </tr>\n",
       "  </thead>\n",
       "  <tbody>\n",
       "    <tr>\n",
       "      <th>0</th>\n",
       "      <td>1.0</td>\n",
       "      <td>Переходник 1</td>\n",
       "      <td>Сварка</td>\n",
       "      <td>Окраска</td>\n",
       "      <td>NaN</td>\n",
       "      <td>NaN</td>\n",
       "      <td>NaN</td>\n",
       "    </tr>\n",
       "    <tr>\n",
       "      <th>1</th>\n",
       "      <td>1.1</td>\n",
       "      <td>Муфта А1</td>\n",
       "      <td>Пила</td>\n",
       "      <td>Токарный</td>\n",
       "      <td>Фрезерный</td>\n",
       "      <td>Сверление</td>\n",
       "      <td>NaN</td>\n",
       "    </tr>\n",
       "    <tr>\n",
       "      <th>2</th>\n",
       "      <td>1.2</td>\n",
       "      <td>Муфта А2</td>\n",
       "      <td>Пила</td>\n",
       "      <td>Токарный</td>\n",
       "      <td>Фрезерный</td>\n",
       "      <td>Сверление</td>\n",
       "      <td>NaN</td>\n",
       "    </tr>\n",
       "    <tr>\n",
       "      <th>3</th>\n",
       "      <td>2.0</td>\n",
       "      <td>Переходник 2</td>\n",
       "      <td>Сварка</td>\n",
       "      <td>Окраска</td>\n",
       "      <td>NaN</td>\n",
       "      <td>NaN</td>\n",
       "      <td>NaN</td>\n",
       "    </tr>\n",
       "    <tr>\n",
       "      <th>4</th>\n",
       "      <td>2.1</td>\n",
       "      <td>Муфта Б1</td>\n",
       "      <td>Пила</td>\n",
       "      <td>Токарный</td>\n",
       "      <td>Фрезерный</td>\n",
       "      <td>Сверление</td>\n",
       "      <td>NaN</td>\n",
       "    </tr>\n",
       "  </tbody>\n",
       "</table>\n",
       "</div>"
      ],
      "text/plain": [
       "     N  nomenclature operation1 operation2 operation3 operation4 operation5\n",
       "0  1.0  Переходник 1     Сварка    Окраска        NaN        NaN        NaN\n",
       "1  1.1      Муфта А1       Пила   Токарный  Фрезерный  Сверление        NaN\n",
       "2  1.2      Муфта А2       Пила   Токарный  Фрезерный  Сверление        NaN\n",
       "3  2.0  Переходник 2     Сварка    Окраска        NaN        NaN        NaN\n",
       "4  2.1      Муфта Б1       Пила   Токарный  Фрезерный  Сверление        NaN"
      ]
     },
     "execution_count": 6290,
     "metadata": {},
     "output_type": "execute_result"
    }
   ],
   "source": [
    "lines.head()"
   ]
  },
  {
   "cell_type": "code",
   "execution_count": 6291,
   "metadata": {},
   "outputs": [
    {
     "data": {
      "text/html": [
       "<div>\n",
       "<style scoped>\n",
       "    .dataframe tbody tr th:only-of-type {\n",
       "        vertical-align: middle;\n",
       "    }\n",
       "\n",
       "    .dataframe tbody tr th {\n",
       "        vertical-align: top;\n",
       "    }\n",
       "\n",
       "    .dataframe thead th {\n",
       "        text-align: right;\n",
       "    }\n",
       "</style>\n",
       "<table border=\"1\" class=\"dataframe\">\n",
       "  <thead>\n",
       "    <tr style=\"text-align: right;\">\n",
       "      <th></th>\n",
       "      <th>N</th>\n",
       "      <th>nomenclature</th>\n",
       "      <th>saw</th>\n",
       "      <th>plazma</th>\n",
       "      <th>turning</th>\n",
       "      <th>milling</th>\n",
       "      <th>drilling</th>\n",
       "      <th>welding</th>\n",
       "      <th>painting</th>\n",
       "    </tr>\n",
       "  </thead>\n",
       "  <tbody>\n",
       "    <tr>\n",
       "      <th>0</th>\n",
       "      <td>1.0</td>\n",
       "      <td>Переходник 1</td>\n",
       "      <td>NaN</td>\n",
       "      <td>NaN</td>\n",
       "      <td>NaN</td>\n",
       "      <td>NaN</td>\n",
       "      <td>NaN</td>\n",
       "      <td>25.0</td>\n",
       "      <td>10.0</td>\n",
       "    </tr>\n",
       "    <tr>\n",
       "      <th>1</th>\n",
       "      <td>1.1</td>\n",
       "      <td>Муфта А1</td>\n",
       "      <td>1.0</td>\n",
       "      <td>NaN</td>\n",
       "      <td>3.0</td>\n",
       "      <td>5.0</td>\n",
       "      <td>5.0</td>\n",
       "      <td>NaN</td>\n",
       "      <td>NaN</td>\n",
       "    </tr>\n",
       "    <tr>\n",
       "      <th>2</th>\n",
       "      <td>1.2</td>\n",
       "      <td>Муфта А2</td>\n",
       "      <td>1.0</td>\n",
       "      <td>NaN</td>\n",
       "      <td>3.0</td>\n",
       "      <td>5.0</td>\n",
       "      <td>5.0</td>\n",
       "      <td>NaN</td>\n",
       "      <td>NaN</td>\n",
       "    </tr>\n",
       "    <tr>\n",
       "      <th>3</th>\n",
       "      <td>2.0</td>\n",
       "      <td>Переходник 2</td>\n",
       "      <td>NaN</td>\n",
       "      <td>NaN</td>\n",
       "      <td>NaN</td>\n",
       "      <td>NaN</td>\n",
       "      <td>NaN</td>\n",
       "      <td>35.0</td>\n",
       "      <td>10.0</td>\n",
       "    </tr>\n",
       "    <tr>\n",
       "      <th>4</th>\n",
       "      <td>2.1</td>\n",
       "      <td>Муфта Б1</td>\n",
       "      <td>1.0</td>\n",
       "      <td>NaN</td>\n",
       "      <td>3.0</td>\n",
       "      <td>5.0</td>\n",
       "      <td>1.0</td>\n",
       "      <td>NaN</td>\n",
       "      <td>NaN</td>\n",
       "    </tr>\n",
       "  </tbody>\n",
       "</table>\n",
       "</div>"
      ],
      "text/plain": [
       "     N  nomenclature  saw  plazma  turning  milling  drilling  welding  \\\n",
       "0  1.0  Переходник 1  NaN     NaN      NaN      NaN       NaN     25.0   \n",
       "1  1.1      Муфта А1  1.0     NaN      3.0      5.0       5.0      NaN   \n",
       "2  1.2      Муфта А2  1.0     NaN      3.0      5.0       5.0      NaN   \n",
       "3  2.0  Переходник 2  NaN     NaN      NaN      NaN       NaN     35.0   \n",
       "4  2.1      Муфта Б1  1.0     NaN      3.0      5.0       1.0      NaN   \n",
       "\n",
       "   painting  \n",
       "0      10.0  \n",
       "1       NaN  \n",
       "2       NaN  \n",
       "3      10.0  \n",
       "4       NaN  "
      ]
     },
     "execution_count": 6291,
     "metadata": {},
     "output_type": "execute_result"
    }
   ],
   "source": [
    "process_time.head()"
   ]
  },
  {
   "cell_type": "code",
   "execution_count": 6292,
   "metadata": {},
   "outputs": [
    {
     "data": {
      "text/html": [
       "<div>\n",
       "<style scoped>\n",
       "    .dataframe tbody tr th:only-of-type {\n",
       "        vertical-align: middle;\n",
       "    }\n",
       "\n",
       "    .dataframe tbody tr th {\n",
       "        vertical-align: top;\n",
       "    }\n",
       "\n",
       "    .dataframe thead th {\n",
       "        text-align: right;\n",
       "    }\n",
       "</style>\n",
       "<table border=\"1\" class=\"dataframe\">\n",
       "  <thead>\n",
       "    <tr style=\"text-align: right;\">\n",
       "      <th></th>\n",
       "      <th>N</th>\n",
       "      <th>nomenclature</th>\n",
       "      <th>saw</th>\n",
       "      <th>plazma</th>\n",
       "      <th>turning</th>\n",
       "      <th>milling</th>\n",
       "      <th>drilling</th>\n",
       "      <th>welding</th>\n",
       "      <th>painting</th>\n",
       "    </tr>\n",
       "  </thead>\n",
       "  <tbody>\n",
       "    <tr>\n",
       "      <th>0</th>\n",
       "      <td>1.0</td>\n",
       "      <td>Переходник 1</td>\n",
       "      <td>NaN</td>\n",
       "      <td>NaN</td>\n",
       "      <td>NaN</td>\n",
       "      <td>NaN</td>\n",
       "      <td>NaN</td>\n",
       "      <td>0.0</td>\n",
       "      <td>0.0</td>\n",
       "    </tr>\n",
       "    <tr>\n",
       "      <th>1</th>\n",
       "      <td>1.1</td>\n",
       "      <td>Муфта А1</td>\n",
       "      <td>5.0</td>\n",
       "      <td>NaN</td>\n",
       "      <td>10.0</td>\n",
       "      <td>15.0</td>\n",
       "      <td>1.0</td>\n",
       "      <td>NaN</td>\n",
       "      <td>NaN</td>\n",
       "    </tr>\n",
       "    <tr>\n",
       "      <th>2</th>\n",
       "      <td>1.2</td>\n",
       "      <td>Муфта А2</td>\n",
       "      <td>5.0</td>\n",
       "      <td>NaN</td>\n",
       "      <td>10.0</td>\n",
       "      <td>15.0</td>\n",
       "      <td>1.0</td>\n",
       "      <td>NaN</td>\n",
       "      <td>NaN</td>\n",
       "    </tr>\n",
       "    <tr>\n",
       "      <th>3</th>\n",
       "      <td>2.0</td>\n",
       "      <td>Переходник 2</td>\n",
       "      <td>NaN</td>\n",
       "      <td>NaN</td>\n",
       "      <td>NaN</td>\n",
       "      <td>NaN</td>\n",
       "      <td>NaN</td>\n",
       "      <td>0.0</td>\n",
       "      <td>0.0</td>\n",
       "    </tr>\n",
       "    <tr>\n",
       "      <th>4</th>\n",
       "      <td>2.1</td>\n",
       "      <td>Муфта Б1</td>\n",
       "      <td>5.0</td>\n",
       "      <td>NaN</td>\n",
       "      <td>10.0</td>\n",
       "      <td>15.0</td>\n",
       "      <td>1.0</td>\n",
       "      <td>NaN</td>\n",
       "      <td>NaN</td>\n",
       "    </tr>\n",
       "  </tbody>\n",
       "</table>\n",
       "</div>"
      ],
      "text/plain": [
       "     N  nomenclature  saw  plazma  turning  milling  drilling  welding  \\\n",
       "0  1.0  Переходник 1  NaN     NaN      NaN      NaN       NaN      0.0   \n",
       "1  1.1      Муфта А1  5.0     NaN     10.0     15.0       1.0      NaN   \n",
       "2  1.2      Муфта А2  5.0     NaN     10.0     15.0       1.0      NaN   \n",
       "3  2.0  Переходник 2  NaN     NaN      NaN      NaN       NaN      0.0   \n",
       "4  2.1      Муфта Б1  5.0     NaN     10.0     15.0       1.0      NaN   \n",
       "\n",
       "   painting  \n",
       "0       0.0  \n",
       "1       NaN  \n",
       "2       NaN  \n",
       "3       0.0  \n",
       "4       NaN  "
      ]
     },
     "execution_count": 6292,
     "metadata": {},
     "output_type": "execute_result"
    }
   ],
   "source": [
    "adjustment_time.head()"
   ]
  },
  {
   "cell_type": "code",
   "execution_count": 6293,
   "metadata": {
    "collapsed": true
   },
   "outputs": [],
   "source": [
    "N = 72 # overall number of elements\n",
    "elements_parts = [products, lines, process_time, adjustment_time]"
   ]
  },
  {
   "cell_type": "code",
   "execution_count": 6294,
   "metadata": {},
   "outputs": [],
   "source": [
    "products_np = products.values\n",
    "lines_np = lines.values\n",
    "process_time_np = process_time.values\n",
    "adjustment_time_np = adjustment_time.values\n",
    "prods_num_np = prods_num.values\n"
   ]
  },
  {
   "cell_type": "code",
   "execution_count": 6295,
   "metadata": {
    "collapsed": true
   },
   "outputs": [],
   "source": [
    "elements = []"
   ]
  },
  {
   "cell_type": "code",
   "execution_count": 6296,
   "metadata": {
    "collapsed": true
   },
   "outputs": [],
   "source": [
    "ht = {}\n",
    "ht['Пила'] = 2\n",
    "ht['Плазменная'] = 3\n",
    "ht['Токарный'] = 4\n",
    "ht['Фрезерный'] = 5\n",
    "ht['Сверление'] = 6\n",
    "ht['Сварка'] = 7\n",
    "ht['Окраска'] = 8"
   ]
  },
  {
   "cell_type": "code",
   "execution_count": 6297,
   "metadata": {
    "collapsed": true
   },
   "outputs": [],
   "source": [
    "class Detail():\n",
    "    def __init__(self, name, path, proc_time, adj_time):\n",
    "        self.name = name    \n",
    "        self.path = path   \n",
    "        self.proc_time = proc_time\n",
    "        self.adj_time = adj_time"
   ]
  },
  {
   "cell_type": "code",
   "execution_count": 6298,
   "metadata": {
    "collapsed": true
   },
   "outputs": [],
   "source": [
    "details = []"
   ]
  },
  {
   "cell_type": "code",
   "execution_count": 6299,
   "metadata": {},
   "outputs": [],
   "source": [
    "for i in range(N):\n",
    "    number = i\n",
    "    name = products_np[i][1]\n",
    "    path = []\n",
    "    for path_part in lines_np[i][2:]:\n",
    "        if path_part == path_part:\n",
    "            path.append(path_part)\n",
    "    proc_time = []\n",
    "    adj_time = []\n",
    "    \n",
    "    for _ in path:\n",
    "        proc_time.append(process_time_np[i][ht[_]])\n",
    "        adj_time.append(adjustment_time_np[i][ht[_]])\n",
    "        \n",
    "    new_element = Detail(name, path, proc_time, adj_time)\n",
    "    details.append(new_element)\n",
    "    \n",
    "        \n",
    "    "
   ]
  },
  {
   "cell_type": "code",
   "execution_count": 6300,
   "metadata": {},
   "outputs": [
    {
     "name": "stdout",
     "output_type": "stream",
     "text": [
      "name = Втулка 5Д path = ['Пила', 'Токарный', 'Фрезерный'] proc_time = [2.0, 5.0, 5.0] adj_time = [5.0, 5.0, 5.0]\n"
     ]
    }
   ],
   "source": [
    "d = details[25]\n",
    "print('name = {} path = {} proc_time = {} adj_time = {}'.format(d.name, d.path, d.proc_time, d.adj_time))"
   ]
  },
  {
   "cell_type": "code",
   "execution_count": 6301,
   "metadata": {
    "collapsed": true
   },
   "outputs": [],
   "source": [
    "name_to_id = {}"
   ]
  },
  {
   "cell_type": "code",
   "execution_count": 6302,
   "metadata": {
    "collapsed": true
   },
   "outputs": [],
   "source": [
    "for idx, i in enumerate(details):\n",
    "    name_to_id[i.name] = idx"
   ]
  },
  {
   "cell_type": "code",
   "execution_count": null,
   "metadata": {
    "collapsed": true
   },
   "outputs": [],
   "source": []
  },
  {
   "cell_type": "code",
   "execution_count": 6303,
   "metadata": {
    "collapsed": true
   },
   "outputs": [],
   "source": [
    "# MAIN PART OF THE ALGORITM !!!"
   ]
  },
  {
   "cell_type": "code",
   "execution_count": 6304,
   "metadata": {
    "collapsed": true
   },
   "outputs": [],
   "source": [
    "order = []"
   ]
  },
  {
   "cell_type": "code",
   "execution_count": 6305,
   "metadata": {
    "collapsed": true
   },
   "outputs": [],
   "source": [
    "N_correct = 50"
   ]
  },
  {
   "cell_type": "code",
   "execution_count": 6306,
   "metadata": {},
   "outputs": [],
   "source": [
    "for i in range(N_correct):\n",
    "    order.append((name_to_id[prods_num_np[i][1]], prods_num_np[i][2]))\n",
    "    "
   ]
  },
  {
   "cell_type": "code",
   "execution_count": 6307,
   "metadata": {},
   "outputs": [],
   "source": [
    "# Simple Case\n",
    "full_order = list(order)\n",
    "banned = [0, 3, 6, 13, 20] \n",
    "for i in range(len(banned) - 1, -1, -1):\n",
    "    del order[banned[i]]"
   ]
  },
  {
   "cell_type": "code",
   "execution_count": null,
   "metadata": {
    "collapsed": true
   },
   "outputs": [],
   "source": []
  },
  {
   "cell_type": "code",
   "execution_count": 6308,
   "metadata": {
    "collapsed": true
   },
   "outputs": [],
   "source": [
    "# The most important part"
   ]
  },
  {
   "cell_type": "code",
   "execution_count": 6309,
   "metadata": {
    "collapsed": true
   },
   "outputs": [],
   "source": [
    "tasks =  []"
   ]
  },
  {
   "cell_type": "code",
   "execution_count": null,
   "metadata": {
    "collapsed": true
   },
   "outputs": [],
   "source": []
  },
  {
   "cell_type": "code",
   "execution_count": 6310,
   "metadata": {
    "collapsed": true
   },
   "outputs": [],
   "source": [
    "# Task is a pair of 2 integers: \n",
    "# Number of the machine\n",
    "# The length of the task\n",
    "# Job is an ordered tuple of tasks"
   ]
  },
  {
   "cell_type": "code",
   "execution_count": null,
   "metadata": {
    "collapsed": true
   },
   "outputs": [],
   "source": []
  },
  {
   "cell_type": "code",
   "execution_count": 6311,
   "metadata": {
    "collapsed": true
   },
   "outputs": [],
   "source": [
    "def create_job(task_id, num_of_tasks): # \n",
    "    task = details[task_id]\n",
    "    path = task.path\n",
    "    proc_time = task.proc_time\n",
    "    adj_time = task.adj_time\n",
    "    name = task.name\n",
    "    \n",
    "    job = []\n",
    "    \n",
    "    paths_to_leaf = obtain_path(path)\n",
    "    \n",
    "    # Choosing path\n",
    "    import random\n",
    "    chosen_path = paths_to_leaf[random.randint(0, len(paths_to_leaf) - 1)]\n",
    "    \n",
    "    \n",
    "    for i in range(len(path)):\n",
    "        adjustment = (chosen_path[i], int(adj_time[i]))\n",
    "        task = (chosen_path[i], int(proc_time[i] * num_of_tasks))\n",
    "        job.append(adjustment)\n",
    "        job.append(task)\n",
    "    return job\n",
    "    \n",
    "    \n",
    "    "
   ]
  },
  {
   "cell_type": "code",
   "execution_count": 6312,
   "metadata": {},
   "outputs": [],
   "source": [
    "def create_job_clever(task_id, num_of_tasks): \n",
    "    task = details[task_id]\n",
    "    path = task.path\n",
    "    proc_time = task.proc_time\n",
    "    adj_time = task.adj_time\n",
    "    name = task.name\n",
    "    \n",
    "    job = []\n",
    "    \n",
    "    paths_to_leaf = obtain_path(path)\n",
    "    \n",
    "    if len(paths_to_leaf) == 1:\n",
    "        return (1, create_job(task_id, num_of_tasks))\n",
    "    \n",
    "    # Choosing path_0\n",
    "    import random\n",
    "    chosen_path_0 = paths_to_leaf[random.randint(0, len(paths_to_leaf) - 1)]\n",
    "    \n",
    "    total_proc_time = 0\n",
    "    total_adj_time = 0\n",
    "    for i in range(len(path)):\n",
    "        total_proc_time += proc_time[i] * num_of_tasks\n",
    "        total_adj_time += adj_time[i]\n",
    "    \n",
    "    eps = 0.1\n",
    "    if total_adj_time > eps * total_proc_time:\n",
    "        for i in range(len(path)):\n",
    "            adjustment = (chosen_path_0[i], int(adj_time[i]))\n",
    "            task = (chosen_path_0[i], int(proc_time[i] * num_of_tasks))\n",
    "            job.append(adjustment)\n",
    "            job.append(task)\n",
    "        return (1, job)\n",
    "    else:\n",
    "        chosen_path_1 = paths_to_leaf[random.randint(0, len(paths_to_leaf) - 1)]\n",
    "        job_0 = []\n",
    "        job_1 = []\n",
    "        for i in range(len(path)):\n",
    "            adjustment_0 = (chosen_path_0[i], int(adj_time[i]))\n",
    "            adjustment_1 = (chosen_path_1[i], int(adj_time[i]))\n",
    "            \n",
    "            task_0 = (chosen_path_0[i], int(proc_time[i] * num_of_tasks // 2))\n",
    "            job_0.append(adjustment_0)\n",
    "            job_0.append(task_0)\n",
    "            \n",
    "            task_1 = (chosen_path_1[i], int(proc_time[i] * (num_of_tasks - num_of_tasks // 2)))\n",
    "            job_1.append(adjustment_1)\n",
    "            job_1.append(task_1)\n",
    "\n",
    "        return (2, job_0, job_1)\n",
    "            \n",
    "        "
   ]
  },
  {
   "cell_type": "code",
   "execution_count": null,
   "metadata": {},
   "outputs": [],
   "source": []
  },
  {
   "cell_type": "code",
   "execution_count": 6313,
   "metadata": {
    "collapsed": true
   },
   "outputs": [],
   "source": [
    "mvp = []"
   ]
  },
  {
   "cell_type": "code",
   "execution_count": 6314,
   "metadata": {},
   "outputs": [
    {
     "name": "stdout",
     "output_type": "stream",
     "text": [
      "45\n"
     ]
    }
   ],
   "source": [
    "max_len = len(order)\n",
    "print(max_len)"
   ]
  },
  {
   "cell_type": "code",
   "execution_count": 6315,
   "metadata": {},
   "outputs": [],
   "source": [
    "def clever_algo(start, end):\n",
    "    max_len = len(order)\n",
    "\n",
    "    for i in range(start, end):\n",
    "        #task = create_job(order[i][0], order[i][1])\n",
    "\n",
    "        n_task = create_job_clever(order[i][0], order[i][1])\n",
    "        if n_task[0] == 1:\n",
    "            mvp.append(n_task[1])\n",
    "        elif n_task[0] == 2:\n",
    "            mvp.append(n_task[1])\n",
    "            mvp.append(n_task[2])\n",
    "        #mvp.append(task)"
   ]
  },
  {
   "cell_type": "code",
   "execution_count": 6316,
   "metadata": {
    "collapsed": true
   },
   "outputs": [],
   "source": [
    "def stupid_algo(start, end):\n",
    "    max_len = len(order)\n",
    "\n",
    "    for i in range(start, end):\n",
    "        task = create_job(order[i][0], order[i][1])\n",
    "        mvp.append(task)\n",
    "    "
   ]
  },
  {
   "cell_type": "code",
   "execution_count": 6317,
   "metadata": {},
   "outputs": [],
   "source": [
    "if clever:\n",
    "    clever_algo(start_test, end_test)\n",
    "else:\n",
    "    stupid_algo(start_test, end_test)"
   ]
  },
  {
   "cell_type": "code",
   "execution_count": 6318,
   "metadata": {},
   "outputs": [
    {
     "name": "stdout",
     "output_type": "stream",
     "text": [
      "[[(0, 5), (0, 10), (2, 10), (2, 30), (4, 15), (4, 50), (6, 1), (6, 50)], [(0, 5), (0, 10), (3, 10), (3, 30), (4, 15), (4, 50), (6, 1), (6, 50)], [(0, 5), (0, 10), (2, 10), (2, 30), (4, 15), (4, 50), (7, 1), (7, 10)], [(0, 5), (0, 10), (2, 10), (2, 20), (4, 15), (4, 50), (7, 1), (7, 10)], [(5, 25), (5, 120), (2, 10), (2, 75), (6, 10), (6, 30)], [(4, 25), (4, 120), (3, 10), (3, 75), (7, 10), (7, 30)], [(0, 5), (0, 15), (3, 10), (3, 105)], [(0, 5), (0, 15), (2, 10), (2, 105)], [(0, 5), (0, 30), (3, 10), (3, 120), (6, 1), (6, 75)], [(0, 5), (0, 30), (3, 10), (3, 120), (6, 1), (6, 75)], [(0, 5), (0, 30), (3, 10), (3, 90)], [(0, 5), (0, 30), (3, 10), (3, 90)], [(0, 5), (0, 30), (2, 10), (2, 75), (4, 5), (4, 135)], [(0, 5), (0, 30), (2, 10), (2, 75), (5, 5), (5, 135)], [(0, 5), (0, 30), (3, 10), (3, 30), (4, 5), (4, 180)], [(0, 5), (0, 30), (2, 10), (2, 30), (5, 5), (5, 180)]]\n"
     ]
    }
   ],
   "source": [
    "print(mvp)"
   ]
  },
  {
   "cell_type": "code",
   "execution_count": null,
   "metadata": {
    "collapsed": true
   },
   "outputs": [],
   "source": []
  },
  {
   "cell_type": "code",
   "execution_count": 6319,
   "metadata": {
    "collapsed": true
   },
   "outputs": [],
   "source": [
    "global_sol = Solution()"
   ]
  },
  {
   "cell_type": "code",
   "execution_count": 6320,
   "metadata": {},
   "outputs": [
    {
     "name": "stdout",
     "output_type": "stream",
     "text": [
      "Optimal Schedule Length: 755\n",
      "\n",
      "Optimal Schedule \n",
      "\n",
      "Machine 0: job_1_0   job_1_1   job_2_0   job_3_0   job_3_1   job_6_0   job_6_1   job_0_0   job_2_1   job_7_0   job_7_1   job_8_0   job_8_1   job_9_0   job_9_1   job_10_0  job_10_1  job_11_0  job_11_1  job_12_0  job_12_1  job_13_0  job_13_1  job_0_1   job_14_0  job_14_1  job_15_0  job_15_1  \n",
      "Machine 1: \n",
      "Machine 2: job_3_2   job_3_3   job_2_2   job_2_3   job_7_2   job_4_2   job_4_3   job_12_2  job_12_3  job_0_2   job_13_2  job_15_2  job_15_3  job_0_3   job_13_3  job_7_3   \n",
      "Machine 3: job_1_2   job_1_3   job_6_2   job_6_3   job_8_2   job_9_2   job_9_3   job_10_2  job_11_2  job_5_2   job_5_3   job_11_3  job_14_2  job_14_3  job_8_3   job_10_3  \n",
      "Machine 4: job_5_0   job_5_1   job_1_4   job_2_4   job_3_4   job_3_5   job_1_5   job_2_5   job_12_4  job_12_5  job_0_4   job_0_5   job_14_4  job_14_5  \n",
      "Machine 5: job_4_0   job_4_1   job_15_4  job_15_5  job_13_4  job_13_5  \n",
      "Machine 6: job_4_4   job_4_5   job_1_6   job_9_4   job_9_5   job_1_7   job_0_6   job_0_7   job_8_4   job_8_5   \n",
      "Machine 7: job_3_6   job_3_7   job_2_6   job_2_7   job_5_4   job_5_5   \n",
      "\n",
      "Task Time Intervals\n",
      "\n",
      "Machine 0: [0,5] [5,15] [15,20] [20,25] [25,35] [35,40] [40,55] [55,60] [60,70] [70,75] [75,90] [90,95] [95,125] [125,130] [130,160] [160,165] [165,195] [195,200] [200,230] [230,235] [235,265] [265,270] [270,300] [300,310] [310,315] [315,345] [345,350] [350,380] \n",
      "Machine 1: \n",
      "Machine 2: [35,45] [45,65] [70,80] [80,110] [110,120] [145,155] [155,230] [265,275] [275,350] [350,360] [360,370] [380,390] [390,420] [431,461] [461,536] [536,641] \n",
      "Machine 3: [15,25] [25,55] [55,65] [65,170] [170,180] [180,190] [190,310] [310,320] [320,330] [330,340] [340,415] [415,505] [505,515] [515,545] [545,665] [665,755] \n",
      "Machine 4: [0,25] [25,145] [145,160] [160,175] [175,190] [190,240] [240,290] [290,340] [350,355] [355,490] [490,505] [505,555] [555,560] [560,740] \n",
      "Machine 5: [0,25] [25,145] [420,425] [425,605] [605,610] [610,745] \n",
      "Machine 6: [230,240] [240,270] [290,291] [310,311] [311,386] [386,436] [555,556] [556,606] [665,666] [666,741] \n",
      "Machine 7: [240,241] [241,251] [340,341] [341,351] [415,425] [425,455] \n",
      "\n"
     ]
    }
   ],
   "source": [
    "MinimalJobshopSat(mvp)"
   ]
  },
  {
   "cell_type": "code",
   "execution_count": 6321,
   "metadata": {},
   "outputs": [],
   "source": [
    "global_obtained_sol = []\n",
    "obtain_sol_line_tasks()"
   ]
  },
  {
   "cell_type": "code",
   "execution_count": 6322,
   "metadata": {},
   "outputs": [],
   "source": [
    "# First level\n",
    "\n",
    "df = []\n",
    "for task in global_obtained_sol:\n",
    "    data = create_data_frame(task.start, task.end)\n",
    "    df.append(dict(\n",
    "        Task=str(task.job_num),\n",
    "        Start=data[0],\n",
    "        Finish=data[1],\n",
    "        Resource=machine_name[task.machine_num]\n",
    "    ))\n",
    "\n",
    "colors = {\n",
    "    'Пила': 'rgb(0, 0, 0)',\n",
    "    'Плазменная': 'rgb(128, 0, 128)',\n",
    "    'Токарный_0': 'rgb(255, 0, 0)',\n",
    "    'Токарный_1': 'rgb(0, 255, 0)',\n",
    "    'Фрезерный_0': 'rgb(0, 0, 255)',\n",
    "    'Фрезерный_1': 'rgb(255, 255, 0)',\n",
    "    'Сверление_0': 'rgb(0, 255, 255)',\n",
    "    'Сверление_1': 'rgb(255, 0, 255)',\n",
    "    'Сварка': 'rgb(192, 192, 192)',\n",
    "    'Окраска': 'rgb(128, 128, 128)',\n",
    "}\n",
    "\n",
    "\n",
    "#fig = ff.create_gantt(df, colors=colors, index_col='Resource', show_colorbar=True, group_tasks=True)\n",
    "#py.iplot(fig, filename='gantt-group-tasks-together', world_readable=True)\n"
   ]
  },
  {
   "cell_type": "code",
   "execution_count": 6323,
   "metadata": {
    "collapsed": true
   },
   "outputs": [],
   "source": [
    "# Lets draw individual graphs for each machine"
   ]
  },
  {
   "cell_type": "code",
   "execution_count": 6324,
   "metadata": {},
   "outputs": [],
   "source": [
    "N = 5 # machine num\n",
    "df = []\n",
    "for task in global_obtained_sol:\n",
    "    if task.machine_num == N:\n",
    "        data = create_data_frame(task.start, task.end)\n",
    "        df.append(dict(\n",
    "            Task=str(task.job_num),\n",
    "            Start=data[0],\n",
    "            Finish=data[1],\n",
    "            Resource=machine_name[task.machine_num]\n",
    "        ))\n",
    "\n",
    "colors = {\n",
    "    'Пила': 'rgb(0, 0, 0)',\n",
    "    'Плазменная': 'rgb(128, 0, 128)',\n",
    "    'Токарный_0': 'rgb(255, 0, 0)',\n",
    "    'Токарный_1': 'rgb(0, 255, 0)',\n",
    "    'Фрезерный_0': 'rgb(0, 0, 255)',\n",
    "    'Фрезерный_1': 'rgb(255, 255, 0)',\n",
    "    'Сверление_0': 'rgb(0, 255, 255)',\n",
    "    'Сверление_1': 'rgb(255, 0, 255)',\n",
    "    'Сварка': 'rgb(192, 192, 192)',\n",
    "    'Окраска': 'rgb(128, 128, 128)',\n",
    "}\n",
    "\n",
    "\n",
    "\n",
    "#fig = ff.create_gantt(df, colors=colors, index_col='Resource', show_colorbar=True, group_tasks=True)\n",
    "#py.iplot(fig, filename='gantt-group-tasks-together', world_readable=True)"
   ]
  },
  {
   "cell_type": "code",
   "execution_count": 6325,
   "metadata": {},
   "outputs": [
    {
     "data": {
      "text/plain": [
       "755.0"
      ]
     },
     "execution_count": 6325,
     "metadata": {},
     "output_type": "execute_result"
    }
   ],
   "source": [
    "# First level time\n",
    "final_time = global_sol.time[0]\n",
    "global_sol.time[0]"
   ]
  },
  {
   "cell_type": "code",
   "execution_count": null,
   "metadata": {
    "collapsed": true
   },
   "outputs": [],
   "source": []
  },
  {
   "cell_type": "code",
   "execution_count": 6326,
   "metadata": {
    "collapsed": true
   },
   "outputs": [],
   "source": [
    "# Finally, lets create complex details"
   ]
  },
  {
   "cell_type": "code",
   "execution_count": 6327,
   "metadata": {},
   "outputs": [
    {
     "name": "stdout",
     "output_type": "stream",
     "text": [
      "[(0, 10), (3, 10), (6, 30), (13, 5), (20, 5)]\n"
     ]
    }
   ],
   "source": [
    "not_banned = [0, 3, 6, 13, 20]\n",
    "order = full_order\n",
    "\n",
    "for i in range(len(order) - 1, -1, -1):\n",
    "    if i not in not_banned:\n",
    "        del order[i]\n",
    "        \n",
    "print(order)"
   ]
  },
  {
   "cell_type": "code",
   "execution_count": 6328,
   "metadata": {},
   "outputs": [],
   "source": [
    "tasks = []\n",
    "mvp = []\n",
    "stupid_algo(0, len(order))\n",
    "\n",
    "global_sol = Solution()"
   ]
  },
  {
   "cell_type": "code",
   "execution_count": 6329,
   "metadata": {},
   "outputs": [
    {
     "name": "stdout",
     "output_type": "stream",
     "text": [
      "Optimal Schedule Length: 2850\n",
      "\n",
      "Optimal Schedule \n",
      "\n",
      "Machine 0: \n",
      "Machine 1: \n",
      "Machine 2: \n",
      "Machine 3: \n",
      "Machine 4: \n",
      "Machine 5: \n",
      "Machine 6: \n",
      "Machine 7: \n",
      "Machine 8: job_0_0   job_0_1   job_1_0   job_2_0   job_3_0   job_4_0   job_1_1   job_2_1   job_3_1   job_4_1   \n",
      "Machine 9: job_0_2   job_0_3   job_1_2   job_1_3   job_2_2   job_2_3   job_3_2   job_3_3   job_4_2   job_4_3   \n",
      "\n",
      "Task Time Intervals\n",
      "\n",
      "Machine 0: \n",
      "Machine 1: \n",
      "Machine 2: \n",
      "Machine 3: \n",
      "Machine 4: \n",
      "Machine 5: \n",
      "Machine 6: \n",
      "Machine 7: \n",
      "Machine 8: [0,0] [0,250] [0,0] [0,0] [0,0] [0,0] [250,600] [600,2250] [2250,2525] [2525,2800] \n",
      "Machine 9: [250,250] [250,350] [600,600] [600,700] [2250,2250] [2250,2550] [2550,2550] [2550,2600] [2800,2800] [2800,2850] \n",
      "\n"
     ]
    }
   ],
   "source": [
    "MinimalJobshopSat(mvp)"
   ]
  },
  {
   "cell_type": "code",
   "execution_count": 6330,
   "metadata": {
    "collapsed": true
   },
   "outputs": [],
   "source": [
    "global_obtained_sol = []\n",
    "obtain_sol_line_tasks()"
   ]
  },
  {
   "cell_type": "code",
   "execution_count": 6331,
   "metadata": {},
   "outputs": [],
   "source": [
    "# Second level\n",
    "\n",
    "df = []\n",
    "for task in global_obtained_sol:\n",
    "    data = create_data_frame(task.start, task.end)\n",
    "    df.append(dict(\n",
    "        Task=str(task.job_num),\n",
    "        Start=data[0],\n",
    "        Finish=data[1],\n",
    "        Resource=machine_name[task.machine_num]\n",
    "    ))\n",
    "\n",
    "\n",
    "colors = {\n",
    "    'Пила': 'rgb(0, 0, 0)',\n",
    "    'Плазменная': 'rgb(128, 0, 128)',\n",
    "    'Токарный_0': 'rgb(255, 0, 0)',\n",
    "    'Токарный_1': 'rgb(0, 255, 0)',\n",
    "    'Фрезерный_0': 'rgb(0, 0, 255)',\n",
    "    'Фрезерный_1': 'rgb(255, 255, 0)',\n",
    "    'Сверление_0': 'rgb(0, 255, 255)',\n",
    "    'Сверление_1': 'rgb(255, 0, 255)',\n",
    "    'Сварка': 'rgb(192, 192, 192)',\n",
    "    'Окраска': 'rgb(128, 128, 128)',\n",
    "}\n",
    "\n",
    "\n",
    "#fig = ff.create_gantt(df, colors=colors, index_col='Resource', show_colorbar=True, group_tasks=True)\n",
    "#py.iplot(fig, filename='gantt-group-tasks-together', world_readable=True)"
   ]
  },
  {
   "cell_type": "code",
   "execution_count": 6332,
   "metadata": {},
   "outputs": [
    {
     "name": "stdout",
     "output_type": "stream",
     "text": [
      "2850.0\n"
     ]
    }
   ],
   "source": [
    "print(global_sol.time[0])\n",
    "final_time += global_sol.time[0]"
   ]
  },
  {
   "cell_type": "code",
   "execution_count": 6333,
   "metadata": {},
   "outputs": [
    {
     "name": "stdout",
     "output_type": "stream",
     "text": [
      "The overall time equals: 3605.0 mins\n"
     ]
    }
   ],
   "source": [
    "# FINAL ANSWER\n",
    "print('The overall time equals: {} mins'.format(str(final_time)))"
   ]
  }
 ],
 "metadata": {
  "kernelspec": {
   "display_name": "Python 3",
   "language": "python",
   "name": "python3"
  },
  "language_info": {
   "codemirror_mode": {
    "name": "ipython",
    "version": 3
   },
   "file_extension": ".py",
   "mimetype": "text/x-python",
   "name": "python",
   "nbconvert_exporter": "python",
   "pygments_lexer": "ipython3",
   "version": "3.6.3"
  }
 },
 "nbformat": 4,
 "nbformat_minor": 2
}
