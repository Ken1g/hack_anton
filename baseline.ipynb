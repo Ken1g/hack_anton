{
 "cells": [
  {
   "cell_type": "code",
   "execution_count": 1,
   "metadata": {},
   "outputs": [],
   "source": [
    "from __future__ import print_function\n",
    "\n",
    "import collections\n",
    "\n",
    "# Import Python wrapper for or-tools CP-SAT solver.\n",
    "from ortools.sat.python import cp_model"
   ]
  },
  {
   "cell_type": "code",
   "execution_count": 2,
   "metadata": {},
   "outputs": [],
   "source": [
    "clever = False\n",
    "start_test = 0\n",
    "end_test = 15"
   ]
  },
  {
   "cell_type": "code",
   "execution_count": 3,
   "metadata": {},
   "outputs": [],
   "source": [
    "class Solution():\n",
    "    def __init__(self):\n",
    "        self.time = []"
   ]
  },
  {
   "cell_type": "code",
   "execution_count": 4,
   "metadata": {},
   "outputs": [],
   "source": [
    "class Task():\n",
    "    def __init__(self):\n",
    "        self.name = None\n",
    "        self.machine_num = None\n",
    "        self.job_num = None\n",
    "        self.task_num  = None\n",
    "        self.start = None\n",
    "        self.end = None"
   ]
  },
  {
   "cell_type": "code",
   "execution_count": null,
   "metadata": {},
   "outputs": [],
   "source": []
  },
  {
   "cell_type": "code",
   "execution_count": 5,
   "metadata": {},
   "outputs": [],
   "source": [
    "global_sol = Solution()"
   ]
  },
  {
   "cell_type": "code",
   "execution_count": 6,
   "metadata": {},
   "outputs": [],
   "source": [
    "def MinimalJobshopSat(jobs_data):\n",
    "    \"\"\"Minimal jobshop problem.\"\"\"\n",
    "    # Create the model.\n",
    "    model = cp_model.CpModel()\n",
    "\n",
    "    machines_count = 1 + max(task[0] for job in jobs_data for task in job)\n",
    "    all_machines = range(machines_count)\n",
    "    jobs_count = len(jobs_data)\n",
    "    all_jobs = range(jobs_count)\n",
    "\n",
    "    # Compute horizon.\n",
    "    horizon = sum(task[1] for job in jobs_data for task in job)\n",
    "\n",
    "    task_type = collections.namedtuple('task_type', 'start end interval')\n",
    "    assigned_task_type = collections.namedtuple('assigned_task_type',\n",
    "                                                'start job index')\n",
    "\n",
    "    # Create jobs.\n",
    "    all_tasks = {}\n",
    "    for job in all_jobs:\n",
    "        for task_id, task in enumerate(jobs_data[job]):\n",
    "            start_var = model.NewIntVar(0, horizon,\n",
    "                                        'start_%i_%i' % (job, task_id))\n",
    "            duration = task[1]\n",
    "            end_var = model.NewIntVar(0, horizon, 'end_%i_%i' % (job, task_id))\n",
    "            interval_var = model.NewIntervalVar(\n",
    "                start_var, duration, end_var, 'interval_%i_%i' % (job, task_id))\n",
    "            all_tasks[job, task_id] = task_type(\n",
    "                start=start_var, end=end_var, interval=interval_var)\n",
    "\n",
    "    # Create and add disjunctive constraints.\n",
    "    for machine in all_machines:\n",
    "        intervals = []\n",
    "        for job in all_jobs:\n",
    "            for task_id, task in enumerate(jobs_data[job]):\n",
    "                if task[0] == machine:\n",
    "                    intervals.append(all_tasks[job, task_id].interval)\n",
    "        model.AddNoOverlap(intervals)\n",
    "\n",
    "    # Add precedence contraints.\n",
    "    for job in all_jobs:\n",
    "        for task_id in range(0, len(jobs_data[job]) - 1):\n",
    "            model.Add(all_tasks[job, task_id +\n",
    "                                1].start >= all_tasks[job, task_id].end)\n",
    "\n",
    "    # Makespan objective.\n",
    "    obj_var = model.NewIntVar(0, horizon, 'makespan')\n",
    "    model.AddMaxEquality(\n",
    "        obj_var,\n",
    "        [all_tasks[(job, len(jobs_data[job]) - 1)].end for job in all_jobs])\n",
    "    model.Minimize(obj_var)\n",
    "\n",
    "    # Solve model.\n",
    "    solver = cp_model.CpSolver()\n",
    "    status = solver.Solve(model)\n",
    "\n",
    "    if status == cp_model.OPTIMAL:\n",
    "        # Print out makespan.\n",
    "        print('Optimal Schedule Length: %i' % solver.ObjectiveValue())\n",
    "        print()\n",
    "\n",
    "        # Create one list of assigned tasks per machine.\n",
    "        assigned_jobs = [[] for _ in all_machines]\n",
    "        for job in all_jobs:\n",
    "            for task_id, task in enumerate(jobs_data[job]):\n",
    "                machine = task[0]\n",
    "                assigned_jobs[machine].append(\n",
    "                    assigned_task_type(\n",
    "                        start=solver.Value(all_tasks[job, task_id].start),\n",
    "                        job=job,\n",
    "                        index=task_id))\n",
    "\n",
    "        disp_col_width = 10\n",
    "        sol_line = ''\n",
    "        sol_line_tasks = ''\n",
    "\n",
    "        print('Optimal Schedule', '\\n')\n",
    "\n",
    "        for machine in all_machines:\n",
    "            # Sort by starting time.\n",
    "            assigned_jobs[machine].sort()\n",
    "            sol_line += 'Machine ' + str(machine) + ': '\n",
    "            sol_line_tasks += 'Machine ' + str(machine) + ': '\n",
    "\n",
    "            for assigned_task in assigned_jobs[machine]:\n",
    "                name = 'job_%i_%i' % (assigned_task.job, assigned_task.index)\n",
    "                # Add spaces to output to align columns.\n",
    "                sol_line_tasks += name + ' ' * (disp_col_width - len(name))\n",
    "                start = assigned_task.start\n",
    "                duration = jobs_data[assigned_task.job][assigned_task.index][1]\n",
    "\n",
    "                sol_tmp = '[%i,%i]' % (start, start + duration)\n",
    "                # Add spaces to output to align columns.\n",
    "                #sol_line += sol_tmp + ' ' * (disp_col_width - len(sol_tmp))\n",
    "                sol_line += sol_tmp + ' '\n",
    "\n",
    "                \n",
    "            sol_line += '\\n'\n",
    "            sol_line_tasks += '\\n'\n",
    "\n",
    "        print(sol_line_tasks)\n",
    "        print('Task Time Intervals\\n')\n",
    "        print(sol_line)\n",
    "        global_sol.sol_line_tasks = sol_line_tasks.split()\n",
    "        global_sol.sol_line = sol_line.split()\n",
    "        global_sol.time.append(solver.ObjectiveValue())\n",
    "\n"
   ]
  },
  {
   "cell_type": "code",
   "execution_count": 7,
   "metadata": {},
   "outputs": [],
   "source": [
    "jobs_data = [  # task = (machine_id, processing_time).\n",
    "    [(0, 3), (1, 2), (2, 2)],  # Job0\n",
    "    [(0, 2), (2, 1), (1, 4)],  # Job1\n",
    "    [(1, 4)]  # Job2\n",
    "]\n",
    "#MinimalJobshopSat(jobs_data)"
   ]
  },
  {
   "cell_type": "code",
   "execution_count": 8,
   "metadata": {},
   "outputs": [],
   "source": [
    "global_obtained_sol = []"
   ]
  },
  {
   "cell_type": "code",
   "execution_count": 9,
   "metadata": {},
   "outputs": [],
   "source": [
    "def obtain_sol_line_tasks():\n",
    "    cur_machine_num = None\n",
    "    cur_task = None\n",
    "    for k in range(len(global_sol.sol_line_tasks)):\n",
    "        i = global_sol.sol_line_tasks[k]\n",
    "        j = global_sol.sol_line[k]\n",
    "        if ':' in i:\n",
    "            cur_machine_num = i[:-1]\n",
    "        elif 'job' in i:\n",
    "            cur_task = Task()\n",
    "            job_info = i.split('_')\n",
    "            cur_task.task_num = int(job_info[2])\n",
    "            cur_task.job_num = int(job_info[1])\n",
    "            cur_task.machine_num = int(cur_machine_num)\n",
    "            \n",
    "            time_info = global_sol.sol_line[k][1:-1].split(',')\n",
    "            start, end = int(time_info[0]), int(time_info[1])\n",
    "            cur_task.start = start\n",
    "            cur_task.end = end\n",
    "            global_obtained_sol.append(cur_task)\n"
   ]
  },
  {
   "cell_type": "code",
   "execution_count": 10,
   "metadata": {},
   "outputs": [],
   "source": [
    "#obtain_sol_line_tasks()"
   ]
  },
  {
   "cell_type": "code",
   "execution_count": 11,
   "metadata": {},
   "outputs": [],
   "source": [
    "def check(sol):\n",
    "    for task in sol:\n",
    "        print('job {j}, task {t}, machine {m}, start {s}, end {e}'.format(\n",
    "                    t=str(task.task_num),\n",
    "                    m=str(task.machine_num),\n",
    "                    j=str(task.job_num),\n",
    "                    s=str(task.start),\n",
    "                    e=str(task.end)\n",
    "        ))\n",
    "    "
   ]
  },
  {
   "cell_type": "code",
   "execution_count": 12,
   "metadata": {},
   "outputs": [],
   "source": [
    "#check(global_obtained_sol)"
   ]
  },
  {
   "cell_type": "code",
   "execution_count": null,
   "metadata": {},
   "outputs": [],
   "source": []
  },
  {
   "cell_type": "code",
   "execution_count": null,
   "metadata": {},
   "outputs": [],
   "source": []
  },
  {
   "cell_type": "code",
   "execution_count": 13,
   "metadata": {},
   "outputs": [],
   "source": [
    "import plotly\n",
    "import plotly.plotly as py\n",
    "import plotly.figure_factory as ff\n",
    "plotly.tools.set_credentials_file(username='sko_hack', api_key='kQEUP4Lw2ebhAjKoU0sJ')"
   ]
  },
  {
   "cell_type": "code",
   "execution_count": null,
   "metadata": {},
   "outputs": [],
   "source": []
  },
  {
   "cell_type": "code",
   "execution_count": 14,
   "metadata": {},
   "outputs": [],
   "source": [
    "def create_data_frame(start, end):\n",
    "    import datetime\n",
    "    the_start = datetime.datetime(2019, 2, 24)\n",
    "    s = the_start + datetime.timedelta(seconds=start*60)\n",
    "    e = the_start + datetime.timedelta(seconds=end*60)\n",
    "    \n",
    "    start = str(s)\n",
    "    end = str(e)\n",
    "    \n",
    "    return (start, end)\n",
    "    \n",
    "    \n",
    "    "
   ]
  },
  {
   "cell_type": "code",
   "execution_count": null,
   "metadata": {},
   "outputs": [],
   "source": []
  },
  {
   "cell_type": "code",
   "execution_count": 15,
   "metadata": {},
   "outputs": [
    {
     "data": {
      "text/plain": [
       "\"\\ndf = []\\nfor task in global_obtained_sol:\\n    data = create_data_frame(task.start, task.end)\\n    df.append(dict(\\n        Task=str(task.machine_num),\\n        Start=data[0],\\n        Finish=data[1],\\n        Resource=task.job_num\\n    ))\\n\\ncolors = {\\n    0: 'rgb(0, 0, 0)',\\n    1: 'rgb(128, 0, 128)',\\n    2: 'rgb(255, 0, 0)',\\n    3: 'rgb(0, 255, 0)',\\n    4: 'rgb(0, 0, 255)',\\n    5: 'rgb(255, 255, 0)',\\n    6: 'rgb(0, 255, 255)',\\n    7: 'rgb(255, 0, 255)',\\n    8: 'rgb(192, 192, 192)',\\n    9: 'rgb(128, 128, 128)',\\n    10: 'rgb(128, 0, 0)'\\n}\\n\\n\\nfig = ff.create_gantt(df, colors=colors, index_col='Resource', show_colorbar=True, group_tasks=True)\\npy.iplot(fig, filename='gantt-group-tasks-together', world_readable=True)\\n\""
      ]
     },
     "execution_count": 15,
     "metadata": {},
     "output_type": "execute_result"
    }
   ],
   "source": [
    "'''\n",
    "df = []\n",
    "for task in global_obtained_sol:\n",
    "    data = create_data_frame(task.start, task.end)\n",
    "    df.append(dict(\n",
    "        Task=str(task.machine_num),\n",
    "        Start=data[0],\n",
    "        Finish=data[1],\n",
    "        Resource=task.job_num\n",
    "    ))\n",
    "\n",
    "colors = {\n",
    "    0: 'rgb(0, 0, 0)',\n",
    "    1: 'rgb(128, 0, 128)',\n",
    "    2: 'rgb(255, 0, 0)',\n",
    "    3: 'rgb(0, 255, 0)',\n",
    "    4: 'rgb(0, 0, 255)',\n",
    "    5: 'rgb(255, 255, 0)',\n",
    "    6: 'rgb(0, 255, 255)',\n",
    "    7: 'rgb(255, 0, 255)',\n",
    "    8: 'rgb(192, 192, 192)',\n",
    "    9: 'rgb(128, 128, 128)',\n",
    "    10: 'rgb(128, 0, 0)'\n",
    "}\n",
    "\n",
    "\n",
    "fig = ff.create_gantt(df, colors=colors, index_col='Resource', show_colorbar=True, group_tasks=True)\n",
    "py.iplot(fig, filename='gantt-group-tasks-together', world_readable=True)\n",
    "'''\n"
   ]
  },
  {
   "cell_type": "code",
   "execution_count": 16,
   "metadata": {},
   "outputs": [
    {
     "data": {
      "text/plain": [
       "\"\\ndf = []\\nfor task in global_obtained_sol:\\n    data = create_data_frame(task.start, task.end)\\n    df.append(dict(\\n        Task=str(task.job_num),\\n        Start=data[0],\\n        Finish=data[1],\\n        Resource=task.machine_num\\n    ))\\n\\ncolors = {\\n    0: 'rgb(0, 0, 0)',\\n    1: 'rgb(128, 0, 128)',\\n    2: 'rgb(255, 0, 0)',\\n    3: 'rgb(0, 255, 0)',\\n    4: 'rgb(0, 0, 255)',\\n    5: 'rgb(255, 255, 0)',\\n    6: 'rgb(0, 255, 255)',\\n    7: 'rgb(255, 0, 255)',\\n    8: 'rgb(192, 192, 192)',\\n    9: 'rgb(128, 128, 128)',\\n    10: 'rgb(128, 0, 0)'\\n}\\n\\n\\nfig = ff.create_gantt(df, colors=colors, index_col='Resource', show_colorbar=True, group_tasks=True)\\npy.iplot(fig, filename='gantt-group-tasks-together', world_readable=True)\\n\""
      ]
     },
     "execution_count": 16,
     "metadata": {},
     "output_type": "execute_result"
    }
   ],
   "source": [
    "'''\n",
    "df = []\n",
    "for task in global_obtained_sol:\n",
    "    data = create_data_frame(task.start, task.end)\n",
    "    df.append(dict(\n",
    "        Task=str(task.job_num),\n",
    "        Start=data[0],\n",
    "        Finish=data[1],\n",
    "        Resource=task.machine_num\n",
    "    ))\n",
    "\n",
    "colors = {\n",
    "    0: 'rgb(0, 0, 0)',\n",
    "    1: 'rgb(128, 0, 128)',\n",
    "    2: 'rgb(255, 0, 0)',\n",
    "    3: 'rgb(0, 255, 0)',\n",
    "    4: 'rgb(0, 0, 255)',\n",
    "    5: 'rgb(255, 255, 0)',\n",
    "    6: 'rgb(0, 255, 255)',\n",
    "    7: 'rgb(255, 0, 255)',\n",
    "    8: 'rgb(192, 192, 192)',\n",
    "    9: 'rgb(128, 128, 128)',\n",
    "    10: 'rgb(128, 0, 0)'\n",
    "}\n",
    "\n",
    "\n",
    "fig = ff.create_gantt(df, colors=colors, index_col='Resource', show_colorbar=True, group_tasks=True)\n",
    "py.iplot(fig, filename='gantt-group-tasks-together', world_readable=True)\n",
    "'''"
   ]
  },
  {
   "cell_type": "code",
   "execution_count": null,
   "metadata": {},
   "outputs": [],
   "source": []
  },
  {
   "cell_type": "code",
   "execution_count": null,
   "metadata": {},
   "outputs": [],
   "source": []
  },
  {
   "cell_type": "code",
   "execution_count": null,
   "metadata": {},
   "outputs": [],
   "source": []
  },
  {
   "cell_type": "code",
   "execution_count": null,
   "metadata": {},
   "outputs": [],
   "source": []
  },
  {
   "cell_type": "code",
   "execution_count": 17,
   "metadata": {},
   "outputs": [],
   "source": [
    "machine_table = {}\n",
    "machine_table['Пила'] = [0]\n",
    "machine_table['Плазменная'] = [1]\n",
    "machine_table['Токарный'] = [2, 3]\n",
    "machine_table['Фрезерный'] = [4, 5]\n",
    "machine_table['Сверление'] = [6, 7]\n",
    "machine_table['Сварка'] = [8]\n",
    "machine_table['Окраска'] = [9]"
   ]
  },
  {
   "cell_type": "code",
   "execution_count": 18,
   "metadata": {},
   "outputs": [],
   "source": [
    "# making good legend\n",
    "machine_name = {}\n",
    "machine_name[0] = 'Пила'\n",
    "machine_name[1] = 'Плазменная'\n",
    "machine_name[2] = 'Токарный_0'\n",
    "machine_name[3] = 'Токарный_1'\n",
    "machine_name[4] = 'Фрезерный_0'\n",
    "machine_name[5] = 'Фрезерный_1'\n",
    "machine_name[6] = 'Сверление_0'\n",
    "machine_name[7] = 'Сверление_1'\n",
    "machine_name[8] = 'Сварка'\n",
    "machine_name[9] = 'Окраска'\n"
   ]
  },
  {
   "cell_type": "code",
   "execution_count": null,
   "metadata": {},
   "outputs": [],
   "source": []
  },
  {
   "cell_type": "code",
   "execution_count": 19,
   "metadata": {},
   "outputs": [],
   "source": [
    "def obtain_path(path_name):\n",
    "    paths = []\n",
    "    for name in path_name:\n",
    "        new_paths = []\n",
    "        if len(paths) == 0:\n",
    "            for machine in machine_table[name]:\n",
    "                new_paths.append([machine])\n",
    "        else:\n",
    "            for p in paths:\n",
    "                for machine in machine_table[name]:\n",
    "                    new_paths.append(p + [machine])\n",
    "        paths = new_paths\n",
    "    return paths"
   ]
  },
  {
   "cell_type": "code",
   "execution_count": 20,
   "metadata": {},
   "outputs": [
    {
     "data": {
      "text/plain": [
       "[[0, 1]]"
      ]
     },
     "execution_count": 20,
     "metadata": {},
     "output_type": "execute_result"
    }
   ],
   "source": [
    "obtain_path(['Пила', 'Плазменная'])"
   ]
  },
  {
   "cell_type": "code",
   "execution_count": null,
   "metadata": {},
   "outputs": [],
   "source": []
  },
  {
   "cell_type": "code",
   "execution_count": 21,
   "metadata": {},
   "outputs": [],
   "source": [
    "import pandas as pd\n",
    "import numpy as np\n",
    "file_name = 'Khakaton.xlsx'\n",
    "products = pd.read_excel(open('Khakaton.xlsx', 'rb'), sheet_name=u'Перечень и состав изделий')\n",
    "prods_num = pd.read_excel(open('Khakaton.xlsx', 'rb'), sheet_name=u'Необходимое кол-во изделий')\n",
    "equipment = pd.read_excel(open('Khakaton.xlsx', 'rb'), sheet_name=u'Оборудование')\n",
    "lines = pd.read_excel(open('Khakaton.xlsx', 'rb'), sheet_name=u'маршрут изготовления', header=2)                  \n",
    "process_time = pd.read_excel(open('Khakaton.xlsx', 'rb'), sheet_name=u'нормы времени (мин.)')\n",
    "adjustment_time = pd.read_excel(open('Khakaton.xlsx', 'rb'), sheet_name=u'Время на наладку оборудования')\n",
    "submisson = pd.read_excel(open('Khakaton.xlsx', 'rb'), sheet_name=u'мой вспомогательный')"
   ]
  },
  {
   "cell_type": "code",
   "execution_count": 22,
   "metadata": {},
   "outputs": [],
   "source": [
    "all_the = [products, prods_num, equipment, lines, process_time, adjustment_time]"
   ]
  },
  {
   "cell_type": "code",
   "execution_count": 23,
   "metadata": {},
   "outputs": [
    {
     "name": "stdout",
     "output_type": "stream",
     "text": [
      "(72, 2)\n",
      "(103, 3)\n",
      "(10, 3)\n",
      "(72, 7)\n",
      "(72, 9)\n",
      "(72, 9)\n"
     ]
    }
   ],
   "source": [
    "for i in all_the:\n",
    "    print(i.shape)"
   ]
  },
  {
   "cell_type": "code",
   "execution_count": 24,
   "metadata": {},
   "outputs": [
    {
     "data": {
      "text/html": [
       "<div>\n",
       "<style scoped>\n",
       "    .dataframe tbody tr th:only-of-type {\n",
       "        vertical-align: middle;\n",
       "    }\n",
       "\n",
       "    .dataframe tbody tr th {\n",
       "        vertical-align: top;\n",
       "    }\n",
       "\n",
       "    .dataframe thead th {\n",
       "        text-align: right;\n",
       "    }\n",
       "</style>\n",
       "<table border=\"1\" class=\"dataframe\">\n",
       "  <thead>\n",
       "    <tr style=\"text-align: right;\">\n",
       "      <th></th>\n",
       "      <th>N</th>\n",
       "      <th>nomenclature</th>\n",
       "    </tr>\n",
       "  </thead>\n",
       "  <tbody>\n",
       "    <tr>\n",
       "      <th>0</th>\n",
       "      <td>1.0</td>\n",
       "      <td>Переходник 1</td>\n",
       "    </tr>\n",
       "    <tr>\n",
       "      <th>1</th>\n",
       "      <td>1.1</td>\n",
       "      <td>Муфта А1</td>\n",
       "    </tr>\n",
       "    <tr>\n",
       "      <th>2</th>\n",
       "      <td>1.2</td>\n",
       "      <td>Муфта А2</td>\n",
       "    </tr>\n",
       "    <tr>\n",
       "      <th>3</th>\n",
       "      <td>2.0</td>\n",
       "      <td>Переходник 2</td>\n",
       "    </tr>\n",
       "    <tr>\n",
       "      <th>4</th>\n",
       "      <td>2.1</td>\n",
       "      <td>Муфта Б1</td>\n",
       "    </tr>\n",
       "  </tbody>\n",
       "</table>\n",
       "</div>"
      ],
      "text/plain": [
       "     N  nomenclature\n",
       "0  1.0  Переходник 1\n",
       "1  1.1      Муфта А1\n",
       "2  1.2      Муфта А2\n",
       "3  2.0  Переходник 2\n",
       "4  2.1      Муфта Б1"
      ]
     },
     "execution_count": 24,
     "metadata": {},
     "output_type": "execute_result"
    }
   ],
   "source": [
    "products.head()"
   ]
  },
  {
   "cell_type": "code",
   "execution_count": 25,
   "metadata": {},
   "outputs": [
    {
     "data": {
      "text/html": [
       "<div>\n",
       "<style scoped>\n",
       "    .dataframe tbody tr th:only-of-type {\n",
       "        vertical-align: middle;\n",
       "    }\n",
       "\n",
       "    .dataframe tbody tr th {\n",
       "        vertical-align: top;\n",
       "    }\n",
       "\n",
       "    .dataframe thead th {\n",
       "        text-align: right;\n",
       "    }\n",
       "</style>\n",
       "<table border=\"1\" class=\"dataframe\">\n",
       "  <thead>\n",
       "    <tr style=\"text-align: right;\">\n",
       "      <th></th>\n",
       "      <th>N</th>\n",
       "      <th>nomenclature</th>\n",
       "      <th>number</th>\n",
       "    </tr>\n",
       "  </thead>\n",
       "  <tbody>\n",
       "    <tr>\n",
       "      <th>0</th>\n",
       "      <td>1.0</td>\n",
       "      <td>Переходник 1</td>\n",
       "      <td>10</td>\n",
       "    </tr>\n",
       "    <tr>\n",
       "      <th>1</th>\n",
       "      <td>1.1</td>\n",
       "      <td>Муфта А1</td>\n",
       "      <td>10</td>\n",
       "    </tr>\n",
       "    <tr>\n",
       "      <th>2</th>\n",
       "      <td>1.2</td>\n",
       "      <td>Муфта А2</td>\n",
       "      <td>10</td>\n",
       "    </tr>\n",
       "    <tr>\n",
       "      <th>3</th>\n",
       "      <td>2.0</td>\n",
       "      <td>Переходник 2</td>\n",
       "      <td>10</td>\n",
       "    </tr>\n",
       "    <tr>\n",
       "      <th>4</th>\n",
       "      <td>2.1</td>\n",
       "      <td>Муфта Б1</td>\n",
       "      <td>10</td>\n",
       "    </tr>\n",
       "  </tbody>\n",
       "</table>\n",
       "</div>"
      ],
      "text/plain": [
       "     N  nomenclature  number\n",
       "0  1.0  Переходник 1      10\n",
       "1  1.1      Муфта А1      10\n",
       "2  1.2      Муфта А2      10\n",
       "3  2.0  Переходник 2      10\n",
       "4  2.1      Муфта Б1      10"
      ]
     },
     "execution_count": 25,
     "metadata": {},
     "output_type": "execute_result"
    }
   ],
   "source": [
    "prods_num.head()"
   ]
  },
  {
   "cell_type": "code",
   "execution_count": 26,
   "metadata": {},
   "outputs": [
    {
     "data": {
      "text/html": [
       "<div>\n",
       "<style scoped>\n",
       "    .dataframe tbody tr th:only-of-type {\n",
       "        vertical-align: middle;\n",
       "    }\n",
       "\n",
       "    .dataframe tbody tr th {\n",
       "        vertical-align: top;\n",
       "    }\n",
       "\n",
       "    .dataframe thead th {\n",
       "        text-align: right;\n",
       "    }\n",
       "</style>\n",
       "<table border=\"1\" class=\"dataframe\">\n",
       "  <thead>\n",
       "    <tr style=\"text-align: right;\">\n",
       "      <th></th>\n",
       "      <th>N</th>\n",
       "      <th>machine</th>\n",
       "      <th>type</th>\n",
       "    </tr>\n",
       "  </thead>\n",
       "  <tbody>\n",
       "    <tr>\n",
       "      <th>0</th>\n",
       "      <td>1</td>\n",
       "      <td>Станок №1</td>\n",
       "      <td>Пила</td>\n",
       "    </tr>\n",
       "    <tr>\n",
       "      <th>1</th>\n",
       "      <td>2</td>\n",
       "      <td>Станок №2</td>\n",
       "      <td>Плазменная резка</td>\n",
       "    </tr>\n",
       "    <tr>\n",
       "      <th>2</th>\n",
       "      <td>3</td>\n",
       "      <td>Станок №3</td>\n",
       "      <td>Токарный 1</td>\n",
       "    </tr>\n",
       "    <tr>\n",
       "      <th>3</th>\n",
       "      <td>4</td>\n",
       "      <td>Станок №4</td>\n",
       "      <td>Токарный 2</td>\n",
       "    </tr>\n",
       "    <tr>\n",
       "      <th>4</th>\n",
       "      <td>5</td>\n",
       "      <td>Станок №5</td>\n",
       "      <td>Фрезерный 1</td>\n",
       "    </tr>\n",
       "  </tbody>\n",
       "</table>\n",
       "</div>"
      ],
      "text/plain": [
       "   N    machine              type\n",
       "0  1  Станок №1              Пила\n",
       "1  2  Станок №2  Плазменная резка\n",
       "2  3  Станок №3        Токарный 1\n",
       "3  4  Станок №4        Токарный 2\n",
       "4  5  Станок №5       Фрезерный 1"
      ]
     },
     "execution_count": 26,
     "metadata": {},
     "output_type": "execute_result"
    }
   ],
   "source": [
    "equipment.head()"
   ]
  },
  {
   "cell_type": "code",
   "execution_count": 27,
   "metadata": {},
   "outputs": [
    {
     "data": {
      "text/html": [
       "<div>\n",
       "<style scoped>\n",
       "    .dataframe tbody tr th:only-of-type {\n",
       "        vertical-align: middle;\n",
       "    }\n",
       "\n",
       "    .dataframe tbody tr th {\n",
       "        vertical-align: top;\n",
       "    }\n",
       "\n",
       "    .dataframe thead th {\n",
       "        text-align: right;\n",
       "    }\n",
       "</style>\n",
       "<table border=\"1\" class=\"dataframe\">\n",
       "  <thead>\n",
       "    <tr style=\"text-align: right;\">\n",
       "      <th></th>\n",
       "      <th>N</th>\n",
       "      <th>nomenclature</th>\n",
       "      <th>operation1</th>\n",
       "      <th>operation2</th>\n",
       "      <th>operation3</th>\n",
       "      <th>operation4</th>\n",
       "      <th>operation5</th>\n",
       "    </tr>\n",
       "  </thead>\n",
       "  <tbody>\n",
       "    <tr>\n",
       "      <th>0</th>\n",
       "      <td>1.0</td>\n",
       "      <td>Переходник 1</td>\n",
       "      <td>Сварка</td>\n",
       "      <td>Окраска</td>\n",
       "      <td>NaN</td>\n",
       "      <td>NaN</td>\n",
       "      <td>NaN</td>\n",
       "    </tr>\n",
       "    <tr>\n",
       "      <th>1</th>\n",
       "      <td>1.1</td>\n",
       "      <td>Муфта А1</td>\n",
       "      <td>Пила</td>\n",
       "      <td>Токарный</td>\n",
       "      <td>Фрезерный</td>\n",
       "      <td>Сверление</td>\n",
       "      <td>NaN</td>\n",
       "    </tr>\n",
       "    <tr>\n",
       "      <th>2</th>\n",
       "      <td>1.2</td>\n",
       "      <td>Муфта А2</td>\n",
       "      <td>Пила</td>\n",
       "      <td>Токарный</td>\n",
       "      <td>Фрезерный</td>\n",
       "      <td>Сверление</td>\n",
       "      <td>NaN</td>\n",
       "    </tr>\n",
       "    <tr>\n",
       "      <th>3</th>\n",
       "      <td>2.0</td>\n",
       "      <td>Переходник 2</td>\n",
       "      <td>Сварка</td>\n",
       "      <td>Окраска</td>\n",
       "      <td>NaN</td>\n",
       "      <td>NaN</td>\n",
       "      <td>NaN</td>\n",
       "    </tr>\n",
       "    <tr>\n",
       "      <th>4</th>\n",
       "      <td>2.1</td>\n",
       "      <td>Муфта Б1</td>\n",
       "      <td>Пила</td>\n",
       "      <td>Токарный</td>\n",
       "      <td>Фрезерный</td>\n",
       "      <td>Сверление</td>\n",
       "      <td>NaN</td>\n",
       "    </tr>\n",
       "  </tbody>\n",
       "</table>\n",
       "</div>"
      ],
      "text/plain": [
       "     N  nomenclature operation1 operation2 operation3 operation4 operation5\n",
       "0  1.0  Переходник 1     Сварка    Окраска        NaN        NaN        NaN\n",
       "1  1.1      Муфта А1       Пила   Токарный  Фрезерный  Сверление        NaN\n",
       "2  1.2      Муфта А2       Пила   Токарный  Фрезерный  Сверление        NaN\n",
       "3  2.0  Переходник 2     Сварка    Окраска        NaN        NaN        NaN\n",
       "4  2.1      Муфта Б1       Пила   Токарный  Фрезерный  Сверление        NaN"
      ]
     },
     "execution_count": 27,
     "metadata": {},
     "output_type": "execute_result"
    }
   ],
   "source": [
    "lines.head()"
   ]
  },
  {
   "cell_type": "code",
   "execution_count": 28,
   "metadata": {},
   "outputs": [
    {
     "data": {
      "text/html": [
       "<div>\n",
       "<style scoped>\n",
       "    .dataframe tbody tr th:only-of-type {\n",
       "        vertical-align: middle;\n",
       "    }\n",
       "\n",
       "    .dataframe tbody tr th {\n",
       "        vertical-align: top;\n",
       "    }\n",
       "\n",
       "    .dataframe thead th {\n",
       "        text-align: right;\n",
       "    }\n",
       "</style>\n",
       "<table border=\"1\" class=\"dataframe\">\n",
       "  <thead>\n",
       "    <tr style=\"text-align: right;\">\n",
       "      <th></th>\n",
       "      <th>N</th>\n",
       "      <th>nomenclature</th>\n",
       "      <th>saw</th>\n",
       "      <th>plazma</th>\n",
       "      <th>turning</th>\n",
       "      <th>milling</th>\n",
       "      <th>drilling</th>\n",
       "      <th>welding</th>\n",
       "      <th>painting</th>\n",
       "    </tr>\n",
       "  </thead>\n",
       "  <tbody>\n",
       "    <tr>\n",
       "      <th>0</th>\n",
       "      <td>1.0</td>\n",
       "      <td>Переходник 1</td>\n",
       "      <td>NaN</td>\n",
       "      <td>NaN</td>\n",
       "      <td>NaN</td>\n",
       "      <td>NaN</td>\n",
       "      <td>NaN</td>\n",
       "      <td>25.0</td>\n",
       "      <td>10.0</td>\n",
       "    </tr>\n",
       "    <tr>\n",
       "      <th>1</th>\n",
       "      <td>1.1</td>\n",
       "      <td>Муфта А1</td>\n",
       "      <td>1.0</td>\n",
       "      <td>NaN</td>\n",
       "      <td>3.0</td>\n",
       "      <td>5.0</td>\n",
       "      <td>5.0</td>\n",
       "      <td>NaN</td>\n",
       "      <td>NaN</td>\n",
       "    </tr>\n",
       "    <tr>\n",
       "      <th>2</th>\n",
       "      <td>1.2</td>\n",
       "      <td>Муфта А2</td>\n",
       "      <td>1.0</td>\n",
       "      <td>NaN</td>\n",
       "      <td>3.0</td>\n",
       "      <td>5.0</td>\n",
       "      <td>5.0</td>\n",
       "      <td>NaN</td>\n",
       "      <td>NaN</td>\n",
       "    </tr>\n",
       "    <tr>\n",
       "      <th>3</th>\n",
       "      <td>2.0</td>\n",
       "      <td>Переходник 2</td>\n",
       "      <td>NaN</td>\n",
       "      <td>NaN</td>\n",
       "      <td>NaN</td>\n",
       "      <td>NaN</td>\n",
       "      <td>NaN</td>\n",
       "      <td>35.0</td>\n",
       "      <td>10.0</td>\n",
       "    </tr>\n",
       "    <tr>\n",
       "      <th>4</th>\n",
       "      <td>2.1</td>\n",
       "      <td>Муфта Б1</td>\n",
       "      <td>1.0</td>\n",
       "      <td>NaN</td>\n",
       "      <td>3.0</td>\n",
       "      <td>5.0</td>\n",
       "      <td>1.0</td>\n",
       "      <td>NaN</td>\n",
       "      <td>NaN</td>\n",
       "    </tr>\n",
       "  </tbody>\n",
       "</table>\n",
       "</div>"
      ],
      "text/plain": [
       "     N  nomenclature  saw  plazma  turning  milling  drilling  welding  \\\n",
       "0  1.0  Переходник 1  NaN     NaN      NaN      NaN       NaN     25.0   \n",
       "1  1.1      Муфта А1  1.0     NaN      3.0      5.0       5.0      NaN   \n",
       "2  1.2      Муфта А2  1.0     NaN      3.0      5.0       5.0      NaN   \n",
       "3  2.0  Переходник 2  NaN     NaN      NaN      NaN       NaN     35.0   \n",
       "4  2.1      Муфта Б1  1.0     NaN      3.0      5.0       1.0      NaN   \n",
       "\n",
       "   painting  \n",
       "0      10.0  \n",
       "1       NaN  \n",
       "2       NaN  \n",
       "3      10.0  \n",
       "4       NaN  "
      ]
     },
     "execution_count": 28,
     "metadata": {},
     "output_type": "execute_result"
    }
   ],
   "source": [
    "process_time.head()"
   ]
  },
  {
   "cell_type": "code",
   "execution_count": 29,
   "metadata": {},
   "outputs": [
    {
     "data": {
      "text/html": [
       "<div>\n",
       "<style scoped>\n",
       "    .dataframe tbody tr th:only-of-type {\n",
       "        vertical-align: middle;\n",
       "    }\n",
       "\n",
       "    .dataframe tbody tr th {\n",
       "        vertical-align: top;\n",
       "    }\n",
       "\n",
       "    .dataframe thead th {\n",
       "        text-align: right;\n",
       "    }\n",
       "</style>\n",
       "<table border=\"1\" class=\"dataframe\">\n",
       "  <thead>\n",
       "    <tr style=\"text-align: right;\">\n",
       "      <th></th>\n",
       "      <th>N</th>\n",
       "      <th>nomenclature</th>\n",
       "      <th>saw</th>\n",
       "      <th>plazma</th>\n",
       "      <th>turning</th>\n",
       "      <th>milling</th>\n",
       "      <th>drilling</th>\n",
       "      <th>welding</th>\n",
       "      <th>painting</th>\n",
       "    </tr>\n",
       "  </thead>\n",
       "  <tbody>\n",
       "    <tr>\n",
       "      <th>0</th>\n",
       "      <td>1.0</td>\n",
       "      <td>Переходник 1</td>\n",
       "      <td>NaN</td>\n",
       "      <td>NaN</td>\n",
       "      <td>NaN</td>\n",
       "      <td>NaN</td>\n",
       "      <td>NaN</td>\n",
       "      <td>0.0</td>\n",
       "      <td>0.0</td>\n",
       "    </tr>\n",
       "    <tr>\n",
       "      <th>1</th>\n",
       "      <td>1.1</td>\n",
       "      <td>Муфта А1</td>\n",
       "      <td>5.0</td>\n",
       "      <td>NaN</td>\n",
       "      <td>10.0</td>\n",
       "      <td>15.0</td>\n",
       "      <td>1.0</td>\n",
       "      <td>NaN</td>\n",
       "      <td>NaN</td>\n",
       "    </tr>\n",
       "    <tr>\n",
       "      <th>2</th>\n",
       "      <td>1.2</td>\n",
       "      <td>Муфта А2</td>\n",
       "      <td>5.0</td>\n",
       "      <td>NaN</td>\n",
       "      <td>10.0</td>\n",
       "      <td>15.0</td>\n",
       "      <td>1.0</td>\n",
       "      <td>NaN</td>\n",
       "      <td>NaN</td>\n",
       "    </tr>\n",
       "    <tr>\n",
       "      <th>3</th>\n",
       "      <td>2.0</td>\n",
       "      <td>Переходник 2</td>\n",
       "      <td>NaN</td>\n",
       "      <td>NaN</td>\n",
       "      <td>NaN</td>\n",
       "      <td>NaN</td>\n",
       "      <td>NaN</td>\n",
       "      <td>0.0</td>\n",
       "      <td>0.0</td>\n",
       "    </tr>\n",
       "    <tr>\n",
       "      <th>4</th>\n",
       "      <td>2.1</td>\n",
       "      <td>Муфта Б1</td>\n",
       "      <td>5.0</td>\n",
       "      <td>NaN</td>\n",
       "      <td>10.0</td>\n",
       "      <td>15.0</td>\n",
       "      <td>1.0</td>\n",
       "      <td>NaN</td>\n",
       "      <td>NaN</td>\n",
       "    </tr>\n",
       "  </tbody>\n",
       "</table>\n",
       "</div>"
      ],
      "text/plain": [
       "     N  nomenclature  saw  plazma  turning  milling  drilling  welding  \\\n",
       "0  1.0  Переходник 1  NaN     NaN      NaN      NaN       NaN      0.0   \n",
       "1  1.1      Муфта А1  5.0     NaN     10.0     15.0       1.0      NaN   \n",
       "2  1.2      Муфта А2  5.0     NaN     10.0     15.0       1.0      NaN   \n",
       "3  2.0  Переходник 2  NaN     NaN      NaN      NaN       NaN      0.0   \n",
       "4  2.1      Муфта Б1  5.0     NaN     10.0     15.0       1.0      NaN   \n",
       "\n",
       "   painting  \n",
       "0       0.0  \n",
       "1       NaN  \n",
       "2       NaN  \n",
       "3       0.0  \n",
       "4       NaN  "
      ]
     },
     "execution_count": 29,
     "metadata": {},
     "output_type": "execute_result"
    }
   ],
   "source": [
    "adjustment_time.head()"
   ]
  },
  {
   "cell_type": "code",
   "execution_count": 30,
   "metadata": {},
   "outputs": [],
   "source": [
    "N = 72 # overall number of elements\n",
    "elements_parts = [products, lines, process_time, adjustment_time]"
   ]
  },
  {
   "cell_type": "code",
   "execution_count": 31,
   "metadata": {},
   "outputs": [],
   "source": [
    "products_np = products.values\n",
    "lines_np = lines.values\n",
    "process_time_np = process_time.values\n",
    "adjustment_time_np = adjustment_time.values\n",
    "prods_num_np = prods_num.values\n"
   ]
  },
  {
   "cell_type": "code",
   "execution_count": 32,
   "metadata": {},
   "outputs": [],
   "source": [
    "elements = []"
   ]
  },
  {
   "cell_type": "code",
   "execution_count": 33,
   "metadata": {},
   "outputs": [],
   "source": [
    "ht = {}\n",
    "ht['Пила'] = 2\n",
    "ht['Плазменная'] = 3\n",
    "ht['Токарный'] = 4\n",
    "ht['Фрезерный'] = 5\n",
    "ht['Сверление'] = 6\n",
    "ht['Сварка'] = 7\n",
    "ht['Окраска'] = 8"
   ]
  },
  {
   "cell_type": "code",
   "execution_count": 34,
   "metadata": {},
   "outputs": [],
   "source": [
    "class Detail():\n",
    "    def __init__(self, name, path, proc_time, adj_time):\n",
    "        self.name = name    \n",
    "        self.path = path   \n",
    "        self.proc_time = proc_time\n",
    "        self.adj_time = adj_time"
   ]
  },
  {
   "cell_type": "code",
   "execution_count": 35,
   "metadata": {},
   "outputs": [],
   "source": [
    "details = []"
   ]
  },
  {
   "cell_type": "code",
   "execution_count": 36,
   "metadata": {},
   "outputs": [],
   "source": [
    "for i in range(N):\n",
    "    number = i\n",
    "    name = products_np[i][1]\n",
    "    path = []\n",
    "    for path_part in lines_np[i][2:]:\n",
    "        if path_part == path_part:\n",
    "            path.append(path_part)\n",
    "    proc_time = []\n",
    "    adj_time = []\n",
    "    \n",
    "    for _ in path:\n",
    "        proc_time.append(process_time_np[i][ht[_]])\n",
    "        adj_time.append(adjustment_time_np[i][ht[_]])\n",
    "        \n",
    "    new_element = Detail(name, path, proc_time, adj_time)\n",
    "    details.append(new_element)\n",
    "    \n",
    "        \n",
    "    "
   ]
  },
  {
   "cell_type": "code",
   "execution_count": 37,
   "metadata": {},
   "outputs": [
    {
     "name": "stdout",
     "output_type": "stream",
     "text": [
      "name = Втулка 5Д path = ['Пила', 'Токарный', 'Фрезерный'] proc_time = [2.0, 5.0, 5.0] adj_time = [5.0, 5.0, 5.0]\n"
     ]
    }
   ],
   "source": [
    "d = details[25]\n",
    "print('name = {} path = {} proc_time = {} adj_time = {}'.format(d.name, d.path, d.proc_time, d.adj_time))"
   ]
  },
  {
   "cell_type": "code",
   "execution_count": 38,
   "metadata": {},
   "outputs": [],
   "source": [
    "name_to_id = {}"
   ]
  },
  {
   "cell_type": "code",
   "execution_count": 39,
   "metadata": {},
   "outputs": [],
   "source": [
    "for idx, i in enumerate(details):\n",
    "    name_to_id[i.name] = idx"
   ]
  },
  {
   "cell_type": "code",
   "execution_count": null,
   "metadata": {},
   "outputs": [],
   "source": []
  },
  {
   "cell_type": "code",
   "execution_count": 40,
   "metadata": {},
   "outputs": [],
   "source": [
    "# MAIN PART OF THE ALGORITM !!!"
   ]
  },
  {
   "cell_type": "code",
   "execution_count": 41,
   "metadata": {},
   "outputs": [],
   "source": [
    "order = []\n",
    "j_names = []"
   ]
  },
  {
   "cell_type": "code",
   "execution_count": 42,
   "metadata": {},
   "outputs": [],
   "source": [
    "N_correct = 50"
   ]
  },
  {
   "cell_type": "code",
   "execution_count": 43,
   "metadata": {},
   "outputs": [],
   "source": [
    "for i in range(N_correct):\n",
    "    order.append((name_to_id[prods_num_np[i][1]], prods_num_np[i][2]))\n",
    "    j_names.append(prods_num_np[i][1])\n",
    "    \n",
    "    "
   ]
  },
  {
   "cell_type": "code",
   "execution_count": 44,
   "metadata": {},
   "outputs": [],
   "source": [
    "# Simple Case\n",
    "full_order = list(order)\n",
    "full_j_names = list(j_names)\n",
    "banned = [0, 3, 6, 13, 20] \n",
    "for i in range(len(banned) - 1, -1, -1):\n",
    "    del j_names[banned[i]]\n",
    "    del order[banned[i]]"
   ]
  },
  {
   "cell_type": "code",
   "execution_count": null,
   "metadata": {},
   "outputs": [],
   "source": []
  },
  {
   "cell_type": "code",
   "execution_count": 45,
   "metadata": {},
   "outputs": [],
   "source": [
    "# The most important part"
   ]
  },
  {
   "cell_type": "code",
   "execution_count": 46,
   "metadata": {},
   "outputs": [],
   "source": [
    "tasks =  []"
   ]
  },
  {
   "cell_type": "code",
   "execution_count": null,
   "metadata": {},
   "outputs": [],
   "source": []
  },
  {
   "cell_type": "code",
   "execution_count": 47,
   "metadata": {},
   "outputs": [],
   "source": [
    "# Task is a pair of 2 integers: \n",
    "# Number of the machine\n",
    "# The length of the task\n",
    "# Job is an ordered tuple of tasks"
   ]
  },
  {
   "cell_type": "code",
   "execution_count": null,
   "metadata": {},
   "outputs": [],
   "source": []
  },
  {
   "cell_type": "code",
   "execution_count": 48,
   "metadata": {},
   "outputs": [],
   "source": [
    "def create_job(task_id, num_of_tasks): # \n",
    "    task = details[task_id]\n",
    "    path = task.path\n",
    "    proc_time = task.proc_time\n",
    "    adj_time = task.adj_time\n",
    "    name = task.name\n",
    "    \n",
    "    job = []\n",
    "    \n",
    "    paths_to_leaf = obtain_path(path)\n",
    "    \n",
    "    # Choosing path\n",
    "    import random\n",
    "    chosen_path = paths_to_leaf[random.randint(0, len(paths_to_leaf) - 1)]\n",
    "    \n",
    "    \n",
    "    for i in range(len(path)):\n",
    "        adjustment = (chosen_path[i], int(adj_time[i]))\n",
    "        task = (chosen_path[i], int(proc_time[i] * num_of_tasks))\n",
    "        job.append(adjustment)\n",
    "        job.append(task)\n",
    "    return job\n",
    "    \n",
    "    \n",
    "    "
   ]
  },
  {
   "cell_type": "code",
   "execution_count": 49,
   "metadata": {},
   "outputs": [],
   "source": [
    "def create_job_clever(task_id, num_of_tasks): \n",
    "    task = details[task_id]\n",
    "    path = task.path\n",
    "    proc_time = task.proc_time\n",
    "    adj_time = task.adj_time\n",
    "    name = task.name\n",
    "    \n",
    "    job = []\n",
    "    \n",
    "    paths_to_leaf = obtain_path(path)\n",
    "    \n",
    "    if len(paths_to_leaf) == 1:\n",
    "        return (1, create_job(task_id, num_of_tasks))\n",
    "    \n",
    "    # Choosing path_0\n",
    "    import random\n",
    "    chosen_path_0 = paths_to_leaf[random.randint(0, len(paths_to_leaf) - 1)]\n",
    "    \n",
    "    total_proc_time = 0\n",
    "    total_adj_time = 0\n",
    "    for i in range(len(path)):\n",
    "        total_proc_time += proc_time[i] * num_of_tasks\n",
    "        total_adj_time += adj_time[i]\n",
    "    \n",
    "    eps = 0.1\n",
    "    if total_adj_time > eps * total_proc_time:\n",
    "        for i in range(len(path)):\n",
    "            adjustment = (chosen_path_0[i], int(adj_time[i]))\n",
    "            task = (chosen_path_0[i], int(proc_time[i] * num_of_tasks))\n",
    "            job.append(adjustment)\n",
    "            job.append(task)\n",
    "        return (1, job)\n",
    "    else:\n",
    "        chosen_path_1 = paths_to_leaf[random.randint(0, len(paths_to_leaf) - 1)]\n",
    "        job_0 = []\n",
    "        job_1 = []\n",
    "        for i in range(len(path)):\n",
    "            adjustment_0 = (chosen_path_0[i], int(adj_time[i]))\n",
    "            adjustment_1 = (chosen_path_1[i], int(adj_time[i]))\n",
    "            \n",
    "            task_0 = (chosen_path_0[i], int(proc_time[i] * num_of_tasks // 2))\n",
    "            job_0.append(adjustment_0)\n",
    "            job_0.append(task_0)\n",
    "            \n",
    "            task_1 = (chosen_path_1[i], int(proc_time[i] * (num_of_tasks - num_of_tasks // 2)))\n",
    "            job_1.append(adjustment_1)\n",
    "            job_1.append(task_1)\n",
    "\n",
    "        return (2, job_0, job_1)\n",
    "            \n",
    "        "
   ]
  },
  {
   "cell_type": "code",
   "execution_count": null,
   "metadata": {},
   "outputs": [],
   "source": []
  },
  {
   "cell_type": "code",
   "execution_count": 50,
   "metadata": {},
   "outputs": [],
   "source": [
    "mvp = []"
   ]
  },
  {
   "cell_type": "code",
   "execution_count": 51,
   "metadata": {},
   "outputs": [
    {
     "name": "stdout",
     "output_type": "stream",
     "text": [
      "45\n"
     ]
    }
   ],
   "source": [
    "max_len = len(order)\n",
    "print(max_len)"
   ]
  },
  {
   "cell_type": "code",
   "execution_count": 52,
   "metadata": {},
   "outputs": [],
   "source": [
    "def clever_algo(start, end):\n",
    "    max_len = len(order)\n",
    "\n",
    "    for i in range(start, end):\n",
    "        #task = create_job(order[i][0], order[i][1])\n",
    "\n",
    "        n_task = create_job_clever(order[i][0], order[i][1])\n",
    "        if n_task[0] == 1:\n",
    "            mvp.append(n_task[1])\n",
    "        elif n_task[0] == 2:\n",
    "            mvp.append(n_task[1])\n",
    "            mvp.append(n_task[2])\n",
    "        #mvp.append(task)"
   ]
  },
  {
   "cell_type": "code",
   "execution_count": 53,
   "metadata": {},
   "outputs": [],
   "source": [
    "def stupid_algo(start, end):\n",
    "    max_len = len(order)\n",
    "\n",
    "    for i in range(start, end):\n",
    "        task = create_job(order[i][0], order[i][1])\n",
    "        mvp.append(task)\n",
    "    "
   ]
  },
  {
   "cell_type": "code",
   "execution_count": 54,
   "metadata": {},
   "outputs": [],
   "source": [
    "if clever:\n",
    "    clever_algo(start_test, end_test)\n",
    "else:\n",
    "    stupid_algo(start_test, end_test)"
   ]
  },
  {
   "cell_type": "code",
   "execution_count": 55,
   "metadata": {},
   "outputs": [
    {
     "name": "stdout",
     "output_type": "stream",
     "text": [
      "[[(0, 5), (0, 10), (2, 10), (2, 30), (4, 15), (4, 50), (6, 1), (6, 50)], [(0, 5), (0, 10), (3, 10), (3, 30), (5, 15), (5, 50), (7, 1), (7, 50)], [(0, 5), (0, 10), (3, 10), (3, 30), (4, 15), (4, 50), (7, 1), (7, 10)], [(0, 5), (0, 10), (2, 10), (2, 20), (4, 15), (4, 50), (7, 1), (7, 10)], [(5, 25), (5, 240), (2, 10), (2, 150), (6, 10), (6, 60)], [(0, 5), (0, 30), (2, 10), (2, 210)], [(0, 5), (0, 60), (2, 10), (2, 240), (6, 1), (6, 150)], [(0, 5), (0, 60), (2, 10), (2, 180)], [(0, 5), (0, 60), (2, 10), (2, 150), (5, 5), (5, 270)], [(0, 5), (0, 60), (3, 10), (3, 60), (5, 5), (5, 360)], [(5, 25), (5, 70), (2, 10), (2, 15), (7, 10), (7, 20)], [(0, 5), (0, 5), (3, 10), (3, 35)], [(0, 5), (0, 5), (3, 10), (3, 120), (7, 1), (7, 20)], [(0, 5), (0, 5), (2, 10), (2, 170)], [(0, 5), (0, 5), (3, 10), (3, 15), (4, 5), (4, 5)]]\n"
     ]
    }
   ],
   "source": [
    "print(mvp)"
   ]
  },
  {
   "cell_type": "code",
   "execution_count": null,
   "metadata": {},
   "outputs": [],
   "source": []
  },
  {
   "cell_type": "code",
   "execution_count": 56,
   "metadata": {},
   "outputs": [],
   "source": [
    "global_sol = Solution()"
   ]
  },
  {
   "cell_type": "code",
   "execution_count": 57,
   "metadata": {},
   "outputs": [
    {
     "name": "stdout",
     "output_type": "stream",
     "text": [
      "Optimal Schedule Length: 1265\n",
      "\n",
      "Optimal Schedule \n",
      "\n",
      "Machine 0: job_13_0  job_13_1  job_1_0   job_3_0   job_1_1   job_0_0   job_0_1   job_2_0   job_3_1   job_5_0   job_5_1   job_6_0   job_6_1   job_7_0   job_7_1   job_8_0   job_8_1   job_9_0   job_9_1   job_11_0  job_11_1  job_12_0  job_12_1  job_2_1   job_14_0  job_14_1  \n",
      "Machine 1: \n",
      "Machine 2: job_13_2  job_13_3  job_0_2   job_0_3   job_3_2   job_3_3   job_5_2   job_10_2  job_10_3  job_6_2   job_7_2   job_8_2   job_6_3   job_4_2   job_8_3   job_7_3   job_4_3   job_5_3   \n",
      "Machine 3: job_1_2   job_1_3   job_9_2   job_9_3   job_11_2  job_11_3  job_12_2  job_12_3  job_14_2  job_14_3  job_2_2   job_2_3   \n",
      "Machine 4: job_3_4   job_3_5   job_0_4   job_0_5   job_14_4  job_14_5  job_2_4   job_2_5   \n",
      "Machine 5: job_4_0   job_10_0  job_1_4   job_10_1  job_4_1   job_9_4   job_9_5   job_1_5   job_8_4   job_8_5   \n",
      "Machine 6: job_0_6   job_0_7   job_6_4   job_6_5   job_4_4   job_4_5   \n",
      "Machine 7: job_3_6   job_3_7   job_12_4  job_12_5  job_2_6   job_2_7   job_1_6   job_1_7   job_10_4  job_10_5  \n",
      "\n",
      "Task Time Intervals\n",
      "\n",
      "Machine 0: [0,5] [5,10] [10,15] [15,20] [20,30] [30,35] [35,45] [45,50] [50,60] [60,65] [65,95] [95,100] [100,160] [160,165] [165,225] [225,230] [230,290] [290,295] [295,355] [355,360] [360,365] [365,370] [370,375] [375,385] [385,390] [390,395] \n",
      "Machine 1: \n",
      "Machine 2: [10,20] [20,190] [190,200] [200,230] [230,240] [240,260] [260,270] [270,280] [280,295] [295,305] [305,315] [315,325] [325,565] [565,575] [575,725] [725,905] [905,1055] [1055,1265] \n",
      "Machine 3: [30,40] [40,70] [355,365] [365,425] [425,435] [435,470] [470,480] [480,600] [600,610] [610,625] [625,635] [635,665] \n",
      "Machine 4: [260,275] [275,325] [366,381] [381,431] [625,630] [630,635] [665,680] [680,730] \n",
      "Machine 5: [0,25] [25,50] [70,85] [85,155] [155,395] [425,430] [430,790] [790,840] [936,941] [941,1211] \n",
      "Machine 6: [431,432] [432,482] [606,607] [607,757] [1055,1065] [1065,1125] \n",
      "Machine 7: [325,326] [326,336] [600,601] [601,621] [730,731] [731,741] [840,841] [841,891] [961,971] [971,991] \n",
      "\n"
     ]
    }
   ],
   "source": [
    "MinimalJobshopSat(mvp)"
   ]
  },
  {
   "cell_type": "code",
   "execution_count": 58,
   "metadata": {},
   "outputs": [],
   "source": [
    "global_obtained_sol = []\n",
    "obtain_sol_line_tasks()"
   ]
  },
  {
   "cell_type": "code",
   "execution_count": 59,
   "metadata": {},
   "outputs": [
    {
     "name": "stdout",
     "output_type": "stream",
     "text": [
      "High five! You successfully sent some data to your account on plotly. View your plot in your browser at https://plot.ly/~sko_hack/0 or inside your plot.ly account where it is named 'gantt-group-tasks-together'\n"
     ]
    },
    {
     "name": "stderr",
     "output_type": "stream",
     "text": [
      "/home/genrikh/anaconda3/lib/python3.6/site-packages/IPython/core/display.py:689: UserWarning:\n",
      "\n",
      "Consider using IPython.display.IFrame instead\n",
      "\n"
     ]
    },
    {
     "data": {
      "text/html": [
       "<iframe id=\"igraph\" scrolling=\"no\" style=\"border:none;\" seamless=\"seamless\" src=\"https://plot.ly/~sko_hack/0.embed\" height=\"600px\" width=\"900px\"></iframe>"
      ],
      "text/plain": [
       "<plotly.tools.PlotlyDisplay object>"
      ]
     },
     "execution_count": 59,
     "metadata": {},
     "output_type": "execute_result"
    }
   ],
   "source": [
    "# First level\n",
    "\n",
    "df = []\n",
    "for task in global_obtained_sol:\n",
    "    data = create_data_frame(task.start, task.end)\n",
    "    df.append(dict(\n",
    "        Task=str(j_names[task.job_num]),\n",
    "        Start=data[0],\n",
    "        Finish=data[1],\n",
    "        Resource=machine_name[task.machine_num]\n",
    "    ))\n",
    "\n",
    "colors = {\n",
    "    'Пила': 'rgb(0, 0, 0)',\n",
    "    'Плазменная': 'rgb(128, 0, 128)',\n",
    "    'Токарный_0': 'rgb(255, 0, 0)',\n",
    "    'Токарный_1': 'rgb(0, 255, 0)',\n",
    "    'Фрезерный_0': 'rgb(0, 0, 255)',\n",
    "    'Фрезерный_1': 'rgb(255, 255, 0)',\n",
    "    'Сверление_0': 'rgb(0, 255, 255)',\n",
    "    'Сверление_1': 'rgb(255, 0, 255)',\n",
    "    'Сварка': 'rgb(192, 192, 192)',\n",
    "    'Окраска': 'rgb(128, 128, 128)',\n",
    "}\n",
    "\n",
    "\n",
    "fig = ff.create_gantt(df, colors=colors, index_col='Resource', show_colorbar=True, group_tasks=True)\n",
    "py.iplot(fig, filename='gantt-group-tasks-together', world_readable=True)\n"
   ]
  },
  {
   "cell_type": "code",
   "execution_count": 60,
   "metadata": {},
   "outputs": [],
   "source": [
    "# Lets draw individual graphs for each machine"
   ]
  },
  {
   "cell_type": "code",
   "execution_count": 61,
   "metadata": {},
   "outputs": [
    {
     "name": "stdout",
     "output_type": "stream",
     "text": [
      "High five! You successfully sent some data to your account on plotly. View your plot in your browser at https://plot.ly/~sko_hack/0 or inside your plot.ly account where it is named 'gantt-group-tasks-together'\n"
     ]
    },
    {
     "data": {
      "text/html": [
       "<iframe id=\"igraph\" scrolling=\"no\" style=\"border:none;\" seamless=\"seamless\" src=\"https://plot.ly/~sko_hack/0.embed\" height=\"600px\" width=\"900px\"></iframe>"
      ],
      "text/plain": [
       "<plotly.tools.PlotlyDisplay object>"
      ]
     },
     "execution_count": 61,
     "metadata": {},
     "output_type": "execute_result"
    }
   ],
   "source": [
    "N = 2 # machine num\n",
    "df = []\n",
    "for task in global_obtained_sol:\n",
    "    if task.machine_num == N:\n",
    "        data = create_data_frame(task.start, task.end)\n",
    "        df.append(dict(\n",
    "            Task=str(j_names[task.job_num]),\n",
    "            Start=data[0],\n",
    "            Finish=data[1],\n",
    "            Resource=machine_name[task.machine_num]\n",
    "        ))\n",
    "\n",
    "colors = {\n",
    "    'Пила': 'rgb(0, 0, 0)',\n",
    "    'Плазменная': 'rgb(128, 0, 128)',\n",
    "    'Токарный_0': 'rgb(255, 0, 0)',\n",
    "    'Токарный_1': 'rgb(0, 255, 0)',\n",
    "    'Фрезерный_0': 'rgb(0, 0, 255)',\n",
    "    'Фрезерный_1': 'rgb(255, 255, 0)',\n",
    "    'Сверление_0': 'rgb(0, 255, 255)',\n",
    "    'Сверление_1': 'rgb(255, 0, 255)',\n",
    "    'Сварка': 'rgb(192, 192, 192)',\n",
    "    'Окраска': 'rgb(128, 128, 128)',\n",
    "}\n",
    "\n",
    "\n",
    "\n",
    "fig = ff.create_gantt(df, colors=colors, index_col='Resource', show_colorbar=True, group_tasks=True)\n",
    "py.iplot(fig, filename='gantt-group-tasks-together', world_readable=True)"
   ]
  },
  {
   "cell_type": "code",
   "execution_count": 62,
   "metadata": {},
   "outputs": [
    {
     "data": {
      "text/plain": [
       "1265.0"
      ]
     },
     "execution_count": 62,
     "metadata": {},
     "output_type": "execute_result"
    }
   ],
   "source": [
    "# First level time\n",
    "final_time = global_sol.time[0]\n",
    "global_sol.time[0]"
   ]
  },
  {
   "cell_type": "code",
   "execution_count": null,
   "metadata": {},
   "outputs": [],
   "source": []
  },
  {
   "cell_type": "code",
   "execution_count": 63,
   "metadata": {},
   "outputs": [],
   "source": [
    "# Finally, lets create complex details"
   ]
  },
  {
   "cell_type": "code",
   "execution_count": 64,
   "metadata": {},
   "outputs": [
    {
     "name": "stdout",
     "output_type": "stream",
     "text": [
      "[(0, 10), (3, 10), (6, 30), (13, 5), (20, 5)]\n"
     ]
    }
   ],
   "source": [
    "not_banned = [0, 3, 6, 13, 20]\n",
    "order = full_order\n",
    "j_names = full_j_names\n",
    "\n",
    "for i in range(len(order) - 1, -1, -1):\n",
    "    if i not in not_banned:\n",
    "        del order[i]\n",
    "        del j_names[i]\n",
    "        \n",
    "print(order)"
   ]
  },
  {
   "cell_type": "code",
   "execution_count": 65,
   "metadata": {},
   "outputs": [],
   "source": [
    "tasks = []\n",
    "mvp = []\n",
    "stupid_algo(0, len(order))\n",
    "\n",
    "global_sol = Solution()"
   ]
  },
  {
   "cell_type": "code",
   "execution_count": 66,
   "metadata": {},
   "outputs": [
    {
     "name": "stdout",
     "output_type": "stream",
     "text": [
      "Optimal Schedule Length: 2850\n",
      "\n",
      "Optimal Schedule \n",
      "\n",
      "Machine 0: \n",
      "Machine 1: \n",
      "Machine 2: \n",
      "Machine 3: \n",
      "Machine 4: \n",
      "Machine 5: \n",
      "Machine 6: \n",
      "Machine 7: \n",
      "Machine 8: job_0_0   job_0_1   job_1_0   job_2_0   job_3_0   job_4_0   job_1_1   job_2_1   job_3_1   job_4_1   \n",
      "Machine 9: job_0_2   job_0_3   job_1_2   job_1_3   job_2_2   job_2_3   job_3_2   job_3_3   job_4_2   job_4_3   \n",
      "\n",
      "Task Time Intervals\n",
      "\n",
      "Machine 0: \n",
      "Machine 1: \n",
      "Machine 2: \n",
      "Machine 3: \n",
      "Machine 4: \n",
      "Machine 5: \n",
      "Machine 6: \n",
      "Machine 7: \n",
      "Machine 8: [0,0] [0,250] [0,0] [0,0] [0,0] [0,0] [250,600] [600,2250] [2250,2525] [2525,2800] \n",
      "Machine 9: [250,250] [250,350] [600,600] [600,700] [2250,2250] [2250,2550] [2550,2550] [2550,2600] [2800,2800] [2800,2850] \n",
      "\n"
     ]
    }
   ],
   "source": [
    "MinimalJobshopSat(mvp)"
   ]
  },
  {
   "cell_type": "code",
   "execution_count": 67,
   "metadata": {},
   "outputs": [],
   "source": [
    "global_obtained_sol = []\n",
    "obtain_sol_line_tasks()"
   ]
  },
  {
   "cell_type": "code",
   "execution_count": 68,
   "metadata": {},
   "outputs": [
    {
     "name": "stdout",
     "output_type": "stream",
     "text": [
      "High five! You successfully sent some data to your account on plotly. View your plot in your browser at https://plot.ly/~sko_hack/0 or inside your plot.ly account where it is named 'gantt-group-tasks-together'\n"
     ]
    },
    {
     "data": {
      "text/html": [
       "<iframe id=\"igraph\" scrolling=\"no\" style=\"border:none;\" seamless=\"seamless\" src=\"https://plot.ly/~sko_hack/0.embed\" height=\"600px\" width=\"900px\"></iframe>"
      ],
      "text/plain": [
       "<plotly.tools.PlotlyDisplay object>"
      ]
     },
     "execution_count": 68,
     "metadata": {},
     "output_type": "execute_result"
    }
   ],
   "source": [
    "# Second level\n",
    "\n",
    "df = []\n",
    "for task in global_obtained_sol:\n",
    "    data = create_data_frame(task.start, task.end)\n",
    "    df.append(dict(\n",
    "        Task=str(j_names[task.job_num]),\n",
    "        Start=data[0],\n",
    "        Finish=data[1],\n",
    "        Resource=machine_name[task.machine_num]\n",
    "    ))\n",
    "\n",
    "\n",
    "colors = {\n",
    "    'Пила': 'rgb(0, 0, 0)',\n",
    "    'Плазменная': 'rgb(128, 0, 128)',\n",
    "    'Токарный_0': 'rgb(255, 0, 0)',\n",
    "    'Токарный_1': 'rgb(0, 255, 0)',\n",
    "    'Фрезерный_0': 'rgb(0, 0, 255)',\n",
    "    'Фрезерный_1': 'rgb(255, 255, 0)',\n",
    "    'Сверление_0': 'rgb(0, 255, 255)',\n",
    "    'Сверление_1': 'rgb(255, 0, 255)',\n",
    "    'Сварка': 'rgb(192, 192, 192)',\n",
    "    'Окраска': 'rgb(128, 128, 128)',\n",
    "}\n",
    "\n",
    "\n",
    "fig = ff.create_gantt(df, colors=colors, index_col='Resource', show_colorbar=True, group_tasks=True)\n",
    "py.iplot(fig, filename='gantt-group-tasks-together', world_readable=True)"
   ]
  },
  {
   "cell_type": "code",
   "execution_count": 69,
   "metadata": {},
   "outputs": [
    {
     "name": "stdout",
     "output_type": "stream",
     "text": [
      "2850.0\n"
     ]
    }
   ],
   "source": [
    "print(global_sol.time[0])\n",
    "#final_time += global_sol.time[0]"
   ]
  },
  {
   "cell_type": "code",
   "execution_count": 70,
   "metadata": {},
   "outputs": [
    {
     "name": "stdout",
     "output_type": "stream",
     "text": [
      "The overall time equals: 1265.0 mins\n"
     ]
    }
   ],
   "source": [
    "# FINAL ANSWER\n",
    "print('The overall time equals: {} mins'.format(str(final_time)))"
   ]
  }
 ],
 "metadata": {
  "kernelspec": {
   "display_name": "Python 3",
   "language": "python",
   "name": "python3"
  },
  "language_info": {
   "codemirror_mode": {
    "name": "ipython",
    "version": 3
   },
   "file_extension": ".py",
   "mimetype": "text/x-python",
   "name": "python",
   "nbconvert_exporter": "python",
   "pygments_lexer": "ipython3",
   "version": "3.6.3"
  }
 },
 "nbformat": 4,
 "nbformat_minor": 2
}
